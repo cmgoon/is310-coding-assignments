{
 "cells": [
  {
   "cell_type": "markdown",
   "metadata": {},
   "source": [
    "# Advanced Text Analysis Notebook\n",
    "\n",
    "This is a notebook to help you experiment with text analysis methods. The goal is to try your hand at understanding how these transformations happen and how they can help us understand patterns in unstructured text data."
   ]
  },
  {
   "cell_type": "markdown",
   "metadata": {},
   "source": [
    "## Load Libraries"
   ]
  },
  {
   "cell_type": "markdown",
   "metadata": {},
   "source": [
    "First, try commenting each of the libraries with a small note about what they do and a link to their documentation."
   ]
  },
  {
   "cell_type": "code",
   "execution_count": 5,
   "metadata": {},
   "outputs": [
    {
     "ename": "ModuleNotFoundError",
     "evalue": "No module named 'sklearn'",
     "output_type": "error",
     "traceback": [
      "\u001b[1;31m---------------------------------------------------------------------------\u001b[0m",
      "\u001b[1;31mModuleNotFoundError\u001b[0m                       Traceback (most recent call last)",
      "Cell \u001b[1;32mIn[5], line 3\u001b[0m\n\u001b[0;32m      1\u001b[0m \u001b[38;5;28;01mimport\u001b[39;00m \u001b[38;5;21;01mpandas\u001b[39;00m \u001b[38;5;28;01mas\u001b[39;00m \u001b[38;5;21;01mpd\u001b[39;00m\n\u001b[0;32m      2\u001b[0m \u001b[38;5;28;01mimport\u001b[39;00m \u001b[38;5;21;01maltair\u001b[39;00m \u001b[38;5;28;01mas\u001b[39;00m \u001b[38;5;21;01malt\u001b[39;00m\n\u001b[1;32m----> 3\u001b[0m \u001b[38;5;28;01mfrom\u001b[39;00m \u001b[38;5;21;01msklearn\u001b[39;00m\u001b[38;5;21;01m.\u001b[39;00m\u001b[38;5;21;01mfeature_extraction\u001b[39;00m\u001b[38;5;21;01m.\u001b[39;00m\u001b[38;5;21;01mtext\u001b[39;00m \u001b[38;5;28;01mimport\u001b[39;00m TfidfVectorizer\n\u001b[0;32m      4\u001b[0m \u001b[38;5;28;01mfrom\u001b[39;00m \u001b[38;5;21;01msklearn\u001b[39;00m\u001b[38;5;21;01m.\u001b[39;00m\u001b[38;5;21;01mdecomposition\u001b[39;00m \u001b[38;5;28;01mimport\u001b[39;00m LatentDirichletAllocation\n\u001b[0;32m      5\u001b[0m \u001b[38;5;28;01mfrom\u001b[39;00m \u001b[38;5;21;01msklearn\u001b[39;00m\u001b[38;5;21;01m.\u001b[39;00m\u001b[38;5;21;01mmodel_selection\u001b[39;00m \u001b[38;5;28;01mimport\u001b[39;00m train_test_split\n",
      "\u001b[1;31mModuleNotFoundError\u001b[0m: No module named 'sklearn'"
     ]
    }
   ],
   "source": [
    "import pandas as pd\n",
    "import altair as alt\n",
    "from sklearn.feature_extraction.text import TfidfVectorizer\n",
    "from sklearn.decomposition import LatentDirichletAllocation\n",
    "from sklearn.model_selection import train_test_split\n",
    "from sklearn.linear_model import LogisticRegression\n",
    "from sklearn.metrics import classification_report\n",
    "import numpy as np"
   ]
  },
  {
   "cell_type": "markdown",
   "metadata": {},
   "source": [
    "## Load Datasets"
   ]
  },
  {
   "cell_type": "markdown",
   "metadata": {},
   "source": [
    "Both datasets are available in Google Drive at this link [https://drive.google.com/drive/folders/1zNTPmQm_HtR1zeCpRAp3XSDBsZuZq0U5?usp=sharing](https://drive.google.com/drive/folders/1zNTPmQm_HtR1zeCpRAp3XSDBsZuZq0U5?usp=sharing). Download the datasets and load them into the notebook. See if you can understand the structure of the data."
   ]
  },
  {
   "cell_type": "code",
   "execution_count": null,
   "metadata": {},
   "outputs": [],
   "source": [
    "# Load the Humanist Listserv dataset\n",
    "humanist_vols = pd.read_csv(\"web_scraped_humanist_listserv_volumes.csv\")\n",
    "pudding_data = pd.read_csv(\"categorized_pudding_public_scripts.csv\")"
   ]
  },
  {
   "cell_type": "markdown",
   "metadata": {},
   "source": [
    "## TF-IDF Experiments"
   ]
  },
  {
   "cell_type": "markdown",
   "metadata": {},
   "source": [
    "This is the code from our lesson in class. Try running it and see if you can understand what it does. Then, try to modify it to see if you can get different results. Use the documentation to help you understand what each parameter does [https://scikit-learn.org/stable/modules/generated/sklearn.feature_extraction.text.TfidfVectorizer.html](https://scikit-learn.org/stable/modules/generated/sklearn.feature_extraction.text.TfidfVectorizer.html). In particular, try out the `max_df`, `min_df`, and `ngram_range` parameters."
   ]
  },
  {
   "cell_type": "code",
   "execution_count": null,
   "metadata": {},
   "outputs": [
    {
     "name": "stderr",
     "output_type": "stream",
     "text": [
      "C:\\Users\\Christy\\AppData\\Local\\Temp\\ipykernel_10324\\3284557571.py:33: DeprecationWarning: DataFrameGroupBy.apply operated on the grouping columns. This behavior is deprecated, and in a future version of pandas the grouping columns will be excluded from the operation. Either pass `include_groups=False` to exclude the groupings or explicitly select the grouping columns after groupby to silence this warning.\n",
      "  top_terms = tfidf_df.groupby('inferred_start_year').apply(lambda x: x.sort_values('score', ascending=False).head(10)).reset_index(drop=True)\n"
     ]
    }
   ],
   "source": [
    "#save our texts to a list\n",
    "documents = humanist_vols.volume_text.tolist()\n",
    "\n",
    "#Create a vectorizer\n",
    "vectorizer = TfidfVectorizer(max_df=.8,stop_words='english',min_df=0.5)\n",
    "# Fit the vectorizer to our documents\n",
    "transformed_documents = vectorizer.fit_transform(documents)\n",
    "\n",
    "# Now get the top features for each document\n",
    "transformed_documents_as_array = transformed_documents.toarray()\n",
    "\n",
    "# Get the dates for each volume\n",
    "dates = humanist_vols.inferred_start_year.tolist()\n",
    "\n",
    "# Create an empty list to store our results\n",
    "tfidf_results = []\n",
    "\n",
    "# Loop through each document and get the top terms\n",
    "for counter, doc in enumerate(transformed_documents_as_array):\n",
    "    # Zip together the terms and the scores\n",
    "    tf_idf_tuples = list(zip(vectorizer.get_feature_names_out(), doc))\n",
    "    # Sort the terms by score\n",
    "    one_doc_as_df = pd.DataFrame.from_records(tf_idf_tuples, columns=['term', 'score']).sort_values(by='score', ascending=False).reset_index(drop=True)\n",
    "    # Add the date to the dataframe\n",
    "    one_doc_as_df['inferred_start_year'] = dates[counter]\n",
    "    # Append the dataframe to our list\n",
    "    tfidf_results.append(one_doc_as_df)\n",
    "# Concatenate all the dataframes together\n",
    "tfidf_df = pd.concat(tfidf_results)\n",
    "# Sort the dataframe by score\n",
    "tfidf_df = tfidf_df.sort_values(by=['score'], ascending=False)\n",
    "# Get the top ten terms for each year\n",
    "top_terms = tfidf_df.groupby('inferred_start_year').apply(lambda x: x.sort_values('score', ascending=False).head(10)).reset_index(drop=True)\n",
    "# Convert the inferred_start_year to a datetime\n",
    "top_terms['inferred_start_year'] = pd.to_datetime(top_terms['inferred_start_year'], format='%Y')"
   ]
  },
  {
   "cell_type": "code",
   "execution_count": null,
   "metadata": {},
   "outputs": [
    {
     "data": {
      "text/html": [
       "\n",
       "<style>\n",
       "  #altair-viz-6cd060b5e3304f298adb6cacfb813040.vega-embed {\n",
       "    width: 100%;\n",
       "    display: flex;\n",
       "  }\n",
       "\n",
       "  #altair-viz-6cd060b5e3304f298adb6cacfb813040.vega-embed details,\n",
       "  #altair-viz-6cd060b5e3304f298adb6cacfb813040.vega-embed details summary {\n",
       "    position: relative;\n",
       "  }\n",
       "</style>\n",
       "<div id=\"altair-viz-6cd060b5e3304f298adb6cacfb813040\"></div>\n",
       "<script type=\"text/javascript\">\n",
       "  var VEGA_DEBUG = (typeof VEGA_DEBUG == \"undefined\") ? {} : VEGA_DEBUG;\n",
       "  (function(spec, embedOpt){\n",
       "    let outputDiv = document.currentScript.previousElementSibling;\n",
       "    if (outputDiv.id !== \"altair-viz-6cd060b5e3304f298adb6cacfb813040\") {\n",
       "      outputDiv = document.getElementById(\"altair-viz-6cd060b5e3304f298adb6cacfb813040\");\n",
       "    }\n",
       "    const paths = {\n",
       "      \"vega\": \"https://cdn.jsdelivr.net/npm/vega@5?noext\",\n",
       "      \"vega-lib\": \"https://cdn.jsdelivr.net/npm/vega-lib?noext\",\n",
       "      \"vega-lite\": \"https://cdn.jsdelivr.net/npm/vega-lite@5.17.0?noext\",\n",
       "      \"vega-embed\": \"https://cdn.jsdelivr.net/npm/vega-embed@6?noext\",\n",
       "    };\n",
       "\n",
       "    function maybeLoadScript(lib, version) {\n",
       "      var key = `${lib.replace(\"-\", \"\")}_version`;\n",
       "      return (VEGA_DEBUG[key] == version) ?\n",
       "        Promise.resolve(paths[lib]) :\n",
       "        new Promise(function(resolve, reject) {\n",
       "          var s = document.createElement('script');\n",
       "          document.getElementsByTagName(\"head\")[0].appendChild(s);\n",
       "          s.async = true;\n",
       "          s.onload = () => {\n",
       "            VEGA_DEBUG[key] = version;\n",
       "            return resolve(paths[lib]);\n",
       "          };\n",
       "          s.onerror = () => reject(`Error loading script: ${paths[lib]}`);\n",
       "          s.src = paths[lib];\n",
       "        });\n",
       "    }\n",
       "\n",
       "    function showError(err) {\n",
       "      outputDiv.innerHTML = `<div class=\"error\" style=\"color:red;\">${err}</div>`;\n",
       "      throw err;\n",
       "    }\n",
       "\n",
       "    function displayChart(vegaEmbed) {\n",
       "      vegaEmbed(outputDiv, spec, embedOpt)\n",
       "        .catch(err => showError(`Javascript Error: ${err.message}<br>This usually means there's a typo in your chart specification. See the javascript console for the full traceback.`));\n",
       "    }\n",
       "\n",
       "    if(typeof define === \"function\" && define.amd) {\n",
       "      requirejs.config({paths});\n",
       "      require([\"vega-embed\"], displayChart, err => showError(`Error loading script: ${err.message}`));\n",
       "    } else {\n",
       "      maybeLoadScript(\"vega\", \"5\")\n",
       "        .then(() => maybeLoadScript(\"vega-lite\", \"5.17.0\"))\n",
       "        .then(() => maybeLoadScript(\"vega-embed\", \"6\"))\n",
       "        .catch(showError)\n",
       "        .then(() => displayChart(vegaEmbed));\n",
       "    }\n",
       "  })({\"config\": {\"view\": {\"continuousWidth\": 300, \"continuousHeight\": 300}}, \"data\": {\"name\": \"data-e828e84f7d68c3d06069770aa571439c\"}, \"mark\": {\"type\": \"bar\"}, \"encoding\": {\"color\": {\"field\": \"term\", \"legend\": {\"columns\": 5, \"orient\": \"right\", \"symbolLimit\": 108, \"title\": \"Term\"}, \"scale\": {\"scheme\": \"tableau20\"}, \"type\": \"nominal\"}, \"opacity\": {\"condition\": {\"param\": \"param_4\", \"value\": 1}, \"value\": 0.2}, \"tooltip\": [{\"field\": \"term\", \"type\": \"nominal\"}, {\"field\": \"score\", \"type\": \"quantitative\"}, {\"field\": \"inferred_start_year\", \"timeUnit\": \"year\", \"type\": \"temporal\"}], \"x\": {\"field\": \"inferred_start_year\", \"type\": \"temporal\"}, \"y\": {\"field\": \"score\", \"type\": \"quantitative\"}}, \"params\": [{\"name\": \"param_4\", \"select\": {\"type\": \"point\", \"fields\": [\"term\"]}, \"bind\": \"legend\"}], \"title\": \"Top 10 Terms by TF-IDF Score in Humanist Volumes\", \"$schema\": \"https://vega.github.io/schema/vega-lite/v5.17.0.json\", \"datasets\": {\"data-e828e84f7d68c3d06069770aa571439c\": [{\"term\": \"num\", \"score\": 0.8362695802149176, \"inferred_start_year\": \"1987-01-01T00:00:00\"}, {\"term\": \"bitnet\", \"score\": 0.31597698847609945, \"inferred_start_year\": \"1987-01-01T00:00:00\"}, {\"term\": \"prolog\", \"score\": 0.16616435184670839, \"inferred_start_year\": \"1987-01-01T00:00:00\"}, {\"term\": \"tlg\", \"score\": 0.11329175872537985, \"inferred_start_year\": \"1987-01-01T00:00:00\"}, {\"term\": \"bene\", \"score\": 0.10853509687097138, \"inferred_start_year\": \"1987-01-01T00:00:00\"}, {\"term\": \"nota\", \"score\": 0.10129850512910246, \"inferred_start_year\": \"1987-01-01T00:00:00\"}, {\"term\": \"rahtz\", \"score\": 0.0932478321816588, \"inferred_start_year\": \"1987-01-01T00:00:00\"}, {\"term\": \"ccat\", \"score\": 0.09177148058922123, \"inferred_start_year\": \"1987-01-01T00:00:00\"}, {\"term\": \"mainframe\", \"score\": 0.08191509421976212, \"inferred_start_year\": \"1987-01-01T00:00:00\"}, {\"term\": \"kraft\", \"score\": 0.07449667626123395, \"inferred_start_year\": \"1987-01-01T00:00:00\"}, {\"term\": \"num\", \"score\": 0.8531405772216664, \"inferred_start_year\": \"1988-01-01T00:00:00\"}, {\"term\": \"bitnet\", \"score\": 0.3415654672521723, \"inferred_start_year\": \"1988-01-01T00:00:00\"}, {\"term\": \"kraft\", \"score\": 0.10210358871650137, \"inferred_start_year\": \"1988-01-01T00:00:00\"}, {\"term\": \"na\", \"score\": 0.09412156413247798, \"inferred_start_year\": \"1988-01-01T00:00:00\"}, {\"term\": \"earn\", \"score\": 0.08128834525330669, \"inferred_start_year\": \"1988-01-01T00:00:00\"}, {\"term\": \"sanskrit\", \"score\": 0.07386217056087334, \"inferred_start_year\": \"1988-01-01T00:00:00\"}, {\"term\": \"faulhaber\", \"score\": 0.07335777498469141, \"inferred_start_year\": \"1988-01-01T00:00:00\"}, {\"term\": \"tlg\", \"score\": 0.07053463938684623, \"inferred_start_year\": \"1988-01-01T00:00:00\"}, {\"term\": \"vm\", \"score\": 0.06565803861137123, \"inferred_start_year\": \"1988-01-01T00:00:00\"}, {\"term\": \"cst\", \"score\": 0.06319930876941486, \"inferred_start_year\": \"1988-01-01T00:00:00\"}, {\"term\": \"num\", \"score\": 0.8926793360906732, \"inferred_start_year\": \"1989-01-01T00:00:00\"}, {\"term\": \"bitnet\", \"score\": 0.3460963193942072, \"inferred_start_year\": \"1989-01-01T00:00:00\"}, {\"term\": \"kraft\", \"score\": 0.0850580202578716, \"inferred_start_year\": \"1989-01-01T00:00:00\"}, {\"term\": \"cdt\", \"score\": 0.07459789323795016, \"inferred_start_year\": \"1989-01-01T00:00:00\"}, {\"term\": \"faulhaber\", \"score\": 0.0680332383307598, \"inferred_start_year\": \"1989-01-01T00:00:00\"}, {\"term\": \"deleted\", \"score\": 0.05669436527563318, \"inferred_start_year\": \"1989-01-01T00:00:00\"}, {\"term\": \"cst\", \"score\": 0.05375281114832647, \"inferred_start_year\": \"1989-01-01T00:00:00\"}, {\"term\": \"kessler\", \"score\": 0.04747790056853023, \"inferred_start_year\": \"1989-01-01T00:00:00\"}, {\"term\": \"goldfield\", \"score\": 0.04174643468391383, \"inferred_start_year\": \"1989-01-01T00:00:00\"}, {\"term\": \"wordperfect\", \"score\": 0.04139584306825141, \"inferred_start_year\": \"1989-01-01T00:00:00\"}, {\"term\": \"num\", \"score\": 0.9086059798066639, \"inferred_start_year\": \"1990-01-01T00:00:00\"}, {\"term\": \"bitnet\", \"score\": 0.3041793521949739, \"inferred_start_year\": \"1990-01-01T00:00:00\"}, {\"term\": \"kessler\", \"score\": 0.07697404829678009, \"inferred_start_year\": \"1990-01-01T00:00:00\"}, {\"term\": \"deleted\", \"score\": 0.062265907167482745, \"inferred_start_year\": \"1990-01-01T00:00:00\"}, {\"term\": \"unicode\", \"score\": 0.06033604453892726, \"inferred_start_year\": \"1990-01-01T00:00:00\"}, {\"term\": \"cdt\", \"score\": 0.05684492341979054, \"inferred_start_year\": \"1990-01-01T00:00:00\"}, {\"term\": \"kraft\", \"score\": 0.055105505326691354, \"inferred_start_year\": \"1990-01-01T00:00:00\"}, {\"term\": \"gas\", \"score\": 0.04733149876374458, \"inferred_start_year\": \"1990-01-01T00:00:00\"}, {\"term\": \"cst\", \"score\": 0.045803232026078326, \"inferred_start_year\": \"1990-01-01T00:00:00\"}, {\"term\": \"vm\", \"score\": 0.0451818864766498, \"inferred_start_year\": \"1990-01-01T00:00:00\"}, {\"term\": \"num\", \"score\": 0.8972470726920467, \"inferred_start_year\": \"1991-01-01T00:00:00\"}, {\"term\": \"bitnet\", \"score\": 0.31467712223661015, \"inferred_start_year\": \"1991-01-01T00:00:00\"}, {\"term\": \"ftp\", \"score\": 0.08345151764850035, \"inferred_start_year\": \"1991-01-01T00:00:00\"}, {\"term\": \"deleted\", \"score\": 0.0810195939349652, \"inferred_start_year\": \"1991-01-01T00:00:00\"}, {\"term\": \"uottawa\", \"score\": 0.07694003433543231, \"inferred_start_year\": \"1991-01-01T00:00:00\"}, {\"term\": \"cst\", \"score\": 0.07334949182789242, \"inferred_start_year\": \"1991-01-01T00:00:00\"}, {\"term\": \"plagiarism\", \"score\": 0.068205270404435, \"inferred_start_year\": \"1991-01-01T00:00:00\"}, {\"term\": \"cdt\", \"score\": 0.06587923124178292, \"inferred_start_year\": \"1991-01-01T00:00:00\"}, {\"term\": \"wordperfect\", \"score\": 0.05182778464485812, \"inferred_start_year\": \"1991-01-01T00:00:00\"}, {\"term\": \"unicode\", \"score\": 0.03536158928463432, \"inferred_start_year\": \"1991-01-01T00:00:00\"}, {\"term\": \"num\", \"score\": 0.8531945330957792, \"inferred_start_year\": \"1992-01-01T00:00:00\"}, {\"term\": \"bitnet\", \"score\": 0.36607753971974677, \"inferred_start_year\": \"1992-01-01T00:00:00\"}, {\"term\": \"ftp\", \"score\": 0.1515328538711859, \"inferred_start_year\": \"1992-01-01T00:00:00\"}, {\"term\": \"uottawa\", \"score\": 0.1258289809448295, \"inferred_start_year\": \"1992-01-01T00:00:00\"}, {\"term\": \"deleted\", \"score\": 0.09593988415539181, \"inferred_start_year\": \"1992-01-01T00:00:00\"}, {\"term\": \"tlg\", \"score\": 0.07939350187985843, \"inferred_start_year\": \"1992-01-01T00:00:00\"}, {\"term\": \"cst\", \"score\": 0.06887856994144814, \"inferred_start_year\": \"1992-01-01T00:00:00\"}, {\"term\": \"rs\", \"score\": 0.06612342714379021, \"inferred_start_year\": \"1992-01-01T00:00:00\"}, {\"term\": \"cdn\", \"score\": 0.060490287146558804, \"inferred_start_year\": \"1992-01-01T00:00:00\"}, {\"term\": \"artfl\", \"score\": 0.049720356860087696, \"inferred_start_year\": \"1992-01-01T00:00:00\"}, {\"term\": \"num\", \"score\": 0.8884749956663741, \"inferred_start_year\": \"1993-01-01T00:00:00\"}, {\"term\": \"ftp\", \"score\": 0.20390141382611993, \"inferred_start_year\": \"1993-01-01T00:00:00\"}, {\"term\": \"bitnet\", \"score\": 0.19077245471216409, \"inferred_start_year\": \"1993-01-01T00:00:00\"}, {\"term\": \"deleted\", \"score\": 0.09368316580888342, \"inferred_start_year\": \"1993-01-01T00:00:00\"}, {\"term\": \"preprints\", \"score\": 0.06917040383007714, \"inferred_start_year\": \"1993-01-01T00:00:00\"}, {\"term\": \"tlg\", \"score\": 0.06168734772043663, \"inferred_start_year\": \"1993-01-01T00:00:00\"}, {\"term\": \"cst\", \"score\": 0.05860158743821557, \"inferred_start_year\": \"1993-01-01T00:00:00\"}, {\"term\": \"cmc\", \"score\": 0.05439667692128715, \"inferred_start_year\": \"1993-01-01T00:00:00\"}, {\"term\": \"compuserve\", \"score\": 0.05424053720989561, \"inferred_start_year\": \"1993-01-01T00:00:00\"}, {\"term\": \"umontreal\", \"score\": 0.05074735248500917, \"inferred_start_year\": \"1993-01-01T00:00:00\"}, {\"term\": \"num\", \"score\": 0.8519342805896362, \"inferred_start_year\": \"1994-01-01T00:00:00\"}, {\"term\": \"ftp\", \"score\": 0.2868576174498023, \"inferred_start_year\": \"1994-01-01T00:00:00\"}, {\"term\": \"deleted\", \"score\": 0.111099848318677, \"inferred_start_year\": \"1994-01-01T00:00:00\"}, {\"term\": \"cti\", \"score\": 0.09748723455308313, \"inferred_start_year\": \"1994-01-01T00:00:00\"}, {\"term\": \"bitnet\", \"score\": 0.09120888746934287, \"inferred_start_year\": \"1994-01-01T00:00:00\"}, {\"term\": \"aaai\", \"score\": 0.07888089230626066, \"inferred_start_year\": \"1994-01-01T00:00:00\"}, {\"term\": \"___\", \"score\": 0.07060576815382881, \"inferred_start_year\": \"1994-01-01T00:00:00\"}, {\"term\": \"_____\", \"score\": 0.05964970068168295, \"inferred_start_year\": \"1994-01-01T00:00:00\"}, {\"term\": \"mc\", \"score\": 0.055997678190967674, \"inferred_start_year\": \"1994-01-01T00:00:00\"}, {\"term\": \"mitkov\", \"score\": 0.05485397543486602, \"inferred_start_year\": \"1994-01-01T00:00:00\"}, {\"term\": \"num\", \"score\": 0.9116946133132615, \"inferred_start_year\": \"1995-01-01T00:00:00\"}, {\"term\": \"deleted\", \"score\": 0.27679756978286263, \"inferred_start_year\": \"1995-01-01T00:00:00\"}, {\"term\": \"ftp\", \"score\": 0.06938774287885402, \"inferred_start_year\": \"1995-01-01T00:00:00\"}, {\"term\": \"chorus\", \"score\": 0.0553840165299579, \"inferred_start_year\": \"1995-01-01T00:00:00\"}, {\"term\": \"tustep\", \"score\": 0.05368201809704549, \"inferred_start_year\": \"1995-01-01T00:00:00\"}, {\"term\": \"pgp\", \"score\": 0.04674600423184377, \"inferred_start_year\": \"1995-01-01T00:00:00\"}, {\"term\": \"908\", \"score\": 0.04415583637745255, \"inferred_start_year\": \"1995-01-01T00:00:00\"}, {\"term\": \"uoregon\", \"score\": 0.04143745562332224, \"inferred_start_year\": \"1995-01-01T00:00:00\"}, {\"term\": \"cst\", \"score\": 0.037059362673933394, \"inferred_start_year\": \"1995-01-01T00:00:00\"}, {\"term\": \"hull\", \"score\": 0.0354891405854016, \"inferred_start_year\": \"1995-01-01T00:00:00\"}, {\"term\": \"num\", \"score\": 0.8945410782096874, \"inferred_start_year\": \"1996-01-01T00:00:00\"}, {\"term\": \"deleted\", \"score\": 0.24662258757860211, \"inferred_start_year\": \"1996-01-01T00:00:00\"}, {\"term\": \"ftp\", \"score\": 0.11388973776278749, \"inferred_start_year\": \"1996-01-01T00:00:00\"}, {\"term\": \"frames\", \"score\": 0.06829548579099752, \"inferred_start_year\": \"1996-01-01T00:00:00\"}, {\"term\": \"etext\", \"score\": 0.06527842966885547, \"inferred_start_year\": \"1996-01-01T00:00:00\"}, {\"term\": \"chass\", \"score\": 0.06339982510457622, \"inferred_start_year\": \"1996-01-01T00:00:00\"}, {\"term\": \"htm\", \"score\": 0.059636071880645826, \"inferred_start_year\": \"1996-01-01T00:00:00\"}, {\"term\": \"acls\", \"score\": 0.05691290482583126, \"inferred_start_year\": \"1996-01-01T00:00:00\"}, {\"term\": \"tact\", \"score\": 0.056440931988638046, \"inferred_start_year\": \"1996-01-01T00:00:00\"}, {\"term\": \"etexts\", \"score\": 0.04757580467391162, \"inferred_start_year\": \"1996-01-01T00:00:00\"}, {\"term\": \"1998\", \"score\": 0.6666133274943138, \"inferred_start_year\": \"1997-01-01T00:00:00\"}, {\"term\": \"num\", \"score\": 0.5997286882074667, \"inferred_start_year\": \"1997-01-01T00:00:00\"}, {\"term\": \"deleted\", \"score\": 0.28836643942169754, \"inferred_start_year\": \"1997-01-01T00:00:00\"}, {\"term\": \"gants\", \"score\": 0.15406320958344383, \"inferred_start_year\": \"1997-01-01T00:00:00\"}, {\"term\": \"ecai\", \"score\": 0.06740265419275668, \"inferred_start_year\": \"1997-01-01T00:00:00\"}, {\"term\": \"coling\", \"score\": 0.06410495163436064, \"inferred_start_year\": \"1997-01-01T00:00:00\"}, {\"term\": \"htm\", \"score\": 0.06272303255588951, \"inferred_start_year\": \"1997-01-01T00:00:00\"}, {\"term\": \"cni\", \"score\": 0.06172336931265279, \"inferred_start_year\": \"1997-01-01T00:00:00\"}, {\"term\": \"archimuse\", \"score\": 0.04294409381330955, \"inferred_start_year\": \"1997-01-01T00:00:00\"}, {\"term\": \"esslli\", \"score\": 0.04171636969685036, \"inferred_start_year\": \"1997-01-01T00:00:00\"}, {\"term\": \"num\", \"score\": 0.6102625526695153, \"inferred_start_year\": \"1998-01-01T00:00:00\"}, {\"term\": \"1998\", \"score\": 0.5819378299254916, \"inferred_start_year\": \"1998-01-01T00:00:00\"}, {\"term\": \"deleted\", \"score\": 0.4243826095963192, \"inferred_start_year\": \"1998-01-01T00:00:00\"}, {\"term\": \"gants\", \"score\": 0.166611992074463, \"inferred_start_year\": \"1998-01-01T00:00:00\"}, {\"term\": \"htm\", \"score\": 0.09690864570288442, \"inferred_start_year\": \"1998-01-01T00:00:00\"}, {\"term\": \"xml\", \"score\": 0.09666533979184243, \"inferred_start_year\": \"1998-01-01T00:00:00\"}, {\"term\": \"cni\", \"score\": 0.08534628642043207, \"inferred_start_year\": \"1998-01-01T00:00:00\"}, {\"term\": \"dupont\", \"score\": 0.05878691979043908, \"inferred_start_year\": \"1998-01-01T00:00:00\"}, {\"term\": \"esslli\", \"score\": 0.05202364940266828, \"inferred_start_year\": \"1998-01-01T00:00:00\"}, {\"term\": \"website\", \"score\": 0.05031602197609054, \"inferred_start_year\": \"1998-01-01T00:00:00\"}, {\"term\": \"num\", \"score\": 0.7020695684722484, \"inferred_start_year\": \"1999-01-01T00:00:00\"}, {\"term\": \"deleted\", \"score\": 0.5646319321989858, \"inferred_start_year\": \"1999-01-01T00:00:00\"}, {\"term\": \"htm\", \"score\": 0.165631715410031, \"inferred_start_year\": \"1999-01-01T00:00:00\"}, {\"term\": \"gants\", \"score\": 0.14982755139212223, \"inferred_start_year\": \"1999-01-01T00:00:00\"}, {\"term\": \"cni\", \"score\": 0.11615563946657653, \"inferred_start_year\": \"1999-01-01T00:00:00\"}, {\"term\": \"duisburg\", \"score\": 0.0911911669225468, \"inferred_start_year\": \"1999-01-01T00:00:00\"}, {\"term\": \"archimuse\", \"score\": 0.08757952279922213, \"inferred_start_year\": \"1999-01-01T00:00:00\"}, {\"term\": \"xml\", \"score\": 0.07383949423459926, \"inferred_start_year\": \"1999-01-01T00:00:00\"}, {\"term\": \"loc\", \"score\": 0.06876927379346622, \"inferred_start_year\": \"1999-01-01T00:00:00\"}, {\"term\": \"website\", \"score\": 0.058634854497586986, \"inferred_start_year\": \"1999-01-01T00:00:00\"}, {\"term\": \"num\", \"score\": 0.7466849663271665, \"inferred_start_year\": \"2000-01-01T00:00:00\"}, {\"term\": \"deleted\", \"score\": 0.4585150435664667, \"inferred_start_year\": \"2000-01-01T00:00:00\"}, {\"term\": \"htm\", \"score\": 0.1718464590250529, \"inferred_start_year\": \"2000-01-01T00:00:00\"}, {\"term\": \"lachance\", \"score\": 0.15859733135852955, \"inferred_start_year\": \"2000-01-01T00:00:00\"}, {\"term\": \"xml\", \"score\": 0.13723721097656802, \"inferred_start_year\": \"2000-01-01T00:00:00\"}, {\"term\": \"cni\", \"score\": 0.13071798453313035, \"inferred_start_year\": \"2000-01-01T00:00:00\"}, {\"term\": \"7848\", \"score\": 0.1131184180396642, \"inferred_start_year\": \"2000-01-01T00:00:00\"}, {\"term\": \"chass\", \"score\": 0.10549821851516723, \"inferred_start_year\": \"2000-01-01T00:00:00\"}, {\"term\": \"metadata\", \"score\": 0.0792567616920269, \"inferred_start_year\": \"2000-01-01T00:00:00\"}, {\"term\": \"cultivate\", \"score\": 0.0767280770459903, \"inferred_start_year\": \"2000-01-01T00:00:00\"}, {\"term\": \"2002\", \"score\": 0.6225331511076967, \"inferred_start_year\": \"2001-01-01T00:00:00\"}, {\"term\": \"num\", \"score\": 0.5640662630340758, \"inferred_start_year\": \"2001-01-01T00:00:00\"}, {\"term\": \"deleted\", \"score\": 0.3873647906007478, \"inferred_start_year\": \"2001-01-01T00:00:00\"}, {\"term\": \"htm\", \"score\": 0.1503434264750251, \"inferred_start_year\": \"2001-01-01T00:00:00\"}, {\"term\": \"lachance\", \"score\": 0.14594670939416007, \"inferred_start_year\": \"2001-01-01T00:00:00\"}, {\"term\": \"xml\", \"score\": 0.09471779495070776, \"inferred_start_year\": \"2001-01-01T00:00:00\"}, {\"term\": \"ubiquity\", \"score\": 0.07518019210528355, \"inferred_start_year\": \"2001-01-01T00:00:00\"}, {\"term\": \"cni\", \"score\": 0.07190589926289485, \"inferred_start_year\": \"2001-01-01T00:00:00\"}, {\"term\": \"7848\", \"score\": 0.06896323691241346, \"inferred_start_year\": \"2001-01-01T00:00:00\"}, {\"term\": \"gants\", \"score\": 0.06806471590737444, \"inferred_start_year\": \"2001-01-01T00:00:00\"}, {\"term\": \"2003\", \"score\": 0.5976452278596966, \"inferred_start_year\": \"2002-01-01T00:00:00\"}, {\"term\": \"2002\", \"score\": 0.5597567756784027, \"inferred_start_year\": \"2002-01-01T00:00:00\"}, {\"term\": \"num\", \"score\": 0.4289514050525068, \"inferred_start_year\": \"2002-01-01T00:00:00\"}, {\"term\": \"deleted\", \"score\": 0.2100627867927369, \"inferred_start_year\": \"2002-01-01T00:00:00\"}, {\"term\": \"htm\", \"score\": 0.13170747663021237, \"inferred_start_year\": \"2002-01-01T00:00:00\"}, {\"term\": \"xml\", \"score\": 0.0967203518422095, \"inferred_start_year\": \"2002-01-01T00:00:00\"}, {\"term\": \"7848\", \"score\": 0.0795784759761328, \"inferred_start_year\": \"2002-01-01T00:00:00\"}, {\"term\": \"ubiquity\", \"score\": 0.07624365936788598, \"inferred_start_year\": \"2002-01-01T00:00:00\"}, {\"term\": \"lachance\", \"score\": 0.07123046781283023, \"inferred_start_year\": \"2002-01-01T00:00:00\"}, {\"term\": \"website\", \"score\": 0.06301883603782107, \"inferred_start_year\": \"2002-01-01T00:00:00\"}, {\"term\": \"2004\", \"score\": 0.5804199318535948, \"inferred_start_year\": \"2003-01-01T00:00:00\"}, {\"term\": \"2003\", \"score\": 0.5513917059636004, \"inferred_start_year\": \"2003-01-01T00:00:00\"}, {\"term\": \"num\", \"score\": 0.4556155094987557, \"inferred_start_year\": \"2003-01-01T00:00:00\"}, {\"term\": \"deleted\", \"score\": 0.2193357859003159, \"inferred_start_year\": \"2003-01-01T00:00:00\"}, {\"term\": \"htm\", \"score\": 0.13920507907238577, \"inferred_start_year\": \"2003-01-01T00:00:00\"}, {\"term\": \"7848\", \"score\": 0.09921922721896408, \"inferred_start_year\": \"2003-01-01T00:00:00\"}, {\"term\": \"2980\", \"score\": 0.09434906160676691, \"inferred_start_year\": \"2003-01-01T00:00:00\"}, {\"term\": \"ubiquity\", \"score\": 0.0733769516121732, \"inferred_start_year\": \"2003-01-01T00:00:00\"}, {\"term\": \"lachance\", \"score\": 0.0667630258914506, \"inferred_start_year\": \"2003-01-01T00:00:00\"}, {\"term\": \"2002\", \"score\": 0.05273507173772831, \"inferred_start_year\": \"2003-01-01T00:00:00\"}, {\"term\": \"2004\", \"score\": 0.7089782159901208, \"inferred_start_year\": \"2004-01-01T00:00:00\"}, {\"term\": \"num\", \"score\": 0.5459885519987294, \"inferred_start_year\": \"2004-01-01T00:00:00\"}, {\"term\": \"deleted\", \"score\": 0.20176152786088594, \"inferred_start_year\": \"2004-01-01T00:00:00\"}, {\"term\": \"google\", \"score\": 0.14722459462229048, \"inferred_start_year\": \"2004-01-01T00:00:00\"}, {\"term\": \"htm\", \"score\": 0.12718776720608135, \"inferred_start_year\": \"2004-01-01T00:00:00\"}, {\"term\": \"pdf\", \"score\": 0.1083272237800845, \"inferred_start_year\": \"2004-01-01T00:00:00\"}, {\"term\": \"ubiquity\", \"score\": 0.09819785297615163, \"inferred_start_year\": \"2004-01-01T00:00:00\"}, {\"term\": \"7848\", \"score\": 0.08136603992726996, \"inferred_start_year\": \"2004-01-01T00:00:00\"}, {\"term\": \"resend\", \"score\": 0.07854083020757309, \"inferred_start_year\": \"2004-01-01T00:00:00\"}, {\"term\": \"2980\", \"score\": 0.07826437557987932, \"inferred_start_year\": \"2004-01-01T00:00:00\"}, {\"term\": \"2006\", \"score\": 0.6223395521694381, \"inferred_start_year\": \"2005-01-01T00:00:00\"}, {\"term\": \"num\", \"score\": 0.5254138856018001, \"inferred_start_year\": \"2005-01-01T00:00:00\"}, {\"term\": \"1007\", \"score\": 0.2965747626575131, \"inferred_start_year\": \"2005-01-01T00:00:00\"}, {\"term\": \"doi\", \"score\": 0.2688295917029086, \"inferred_start_year\": \"2005-01-01T00:00:00\"}, {\"term\": \"htm\", \"score\": 0.18281524238747565, \"inferred_start_year\": \"2005-01-01T00:00:00\"}, {\"term\": \"deleted\", \"score\": 0.13314773029996285, \"inferred_start_year\": \"2005-01-01T00:00:00\"}, {\"term\": \"ubiquity\", \"score\": 0.13160917392666113, \"inferred_start_year\": \"2005-01-01T00:00:00\"}, {\"term\": \"google\", \"score\": 0.10100406751154602, \"inferred_start_year\": \"2005-01-01T00:00:00\"}, {\"term\": \"xml\", \"score\": 0.10091240329679235, \"inferred_start_year\": \"2005-01-01T00:00:00\"}, {\"term\": \"7848\", \"score\": 0.09698947814697498, \"inferred_start_year\": \"2005-01-01T00:00:00\"}, {\"term\": \"2006\", \"score\": 0.623090448806742, \"inferred_start_year\": \"2006-01-01T00:00:00\"}, {\"term\": \"2007\", \"score\": 0.5925165157059661, \"inferred_start_year\": \"2006-01-01T00:00:00\"}, {\"term\": \"num\", \"score\": 0.3627074380545186, \"inferred_start_year\": \"2006-01-01T00:00:00\"}, {\"term\": \"ubiquity\", \"score\": 0.15044364656596795, \"inferred_start_year\": \"2006-01-01T00:00:00\"}, {\"term\": \"1007\", \"score\": 0.14855436057954657, \"inferred_start_year\": \"2006-01-01T00:00:00\"}, {\"term\": \"doi\", \"score\": 0.13794525131279523, \"inferred_start_year\": \"2006-01-01T00:00:00\"}, {\"term\": \"deleted\", \"score\": 0.08533813302315132, \"inferred_start_year\": \"2006-01-01T00:00:00\"}, {\"term\": \"website\", \"score\": 0.07224168686613305, \"inferred_start_year\": \"2006-01-01T00:00:00\"}, {\"term\": \"xml\", \"score\": 0.06957770722869105, \"inferred_start_year\": \"2006-01-01T00:00:00\"}, {\"term\": \"php\", \"score\": 0.06461097189589868, \"inferred_start_year\": \"2006-01-01T00:00:00\"}, {\"term\": \"2007\", \"score\": 0.7555929321848516, \"inferred_start_year\": \"2007-01-01T00:00:00\"}, {\"term\": \"2008\", \"score\": 0.43911164069840614, \"inferred_start_year\": \"2007-01-01T00:00:00\"}, {\"term\": \"num\", \"score\": 0.39419920860592544, \"inferred_start_year\": \"2007-01-01T00:00:00\"}, {\"term\": \"deleted\", \"score\": 0.10601038426328384, \"inferred_start_year\": \"2007-01-01T00:00:00\"}, {\"term\": \"ubiquity\", \"score\": 0.10420008032390944, \"inferred_start_year\": \"2007-01-01T00:00:00\"}, {\"term\": \"website\", \"score\": 0.07846847070468559, \"inferred_start_year\": \"2007-01-01T00:00:00\"}, {\"term\": \"wiki\", \"score\": 0.06701628121488785, \"inferred_start_year\": \"2007-01-01T00:00:00\"}, {\"term\": \"sic\", \"score\": 0.061841912414023266, \"inferred_start_year\": \"2007-01-01T00:00:00\"}, {\"term\": \"pdf\", \"score\": 0.05677325558726643, \"inferred_start_year\": \"2007-01-01T00:00:00\"}, {\"term\": \"php\", \"score\": 0.05194061871732689, \"inferred_start_year\": \"2007-01-01T00:00:00\"}, {\"term\": \"2008\", \"score\": 0.8431669813933031, \"inferred_start_year\": \"2008-01-01T00:00:00\"}, {\"term\": \"nz\", \"score\": 0.4144533890819627, \"inferred_start_year\": \"2008-01-01T00:00:00\"}, {\"term\": \"spam\", \"score\": 0.2575037143219345, \"inferred_start_year\": \"2008-01-01T00:00:00\"}, {\"term\": \"rsa\", \"score\": 0.0919751247494669, \"inferred_start_year\": \"2008-01-01T00:00:00\"}, {\"term\": \"orange\", \"score\": 0.08811203789876233, \"inferred_start_year\": \"2008-01-01T00:00:00\"}, {\"term\": \"virus\", \"score\": 0.08211744174601004, \"inferred_start_year\": \"2008-01-01T00:00:00\"}, {\"term\": \"wolf\", \"score\": 0.06735018376187159, \"inferred_start_year\": \"2008-01-01T00:00:00\"}, {\"term\": \"1300\", \"score\": 0.057895750295748095, \"inferred_start_year\": \"2008-01-01T00:00:00\"}, {\"term\": \"mime\", \"score\": 0.04988696263385808, \"inferred_start_year\": \"2008-01-01T00:00:00\"}, {\"term\": \"precedence\", \"score\": 0.04728270072040192, \"inferred_start_year\": \"2008-01-01T00:00:00\"}, {\"term\": \"2008\", \"score\": 0.7192112790465941, \"inferred_start_year\": \"2009-01-01T00:00:00\"}, {\"term\": \"2009\", \"score\": 0.43193513714214893, \"inferred_start_year\": \"2009-01-01T00:00:00\"}, {\"term\": \"spam\", \"score\": 0.3794657078235594, \"inferred_start_year\": \"2009-01-01T00:00:00\"}, {\"term\": \"bounces\", \"score\": 0.19981823160595516, \"inferred_start_year\": \"2009-01-01T00:00:00\"}, {\"term\": \"nz\", \"score\": 0.1582152337489166, \"inferred_start_year\": \"2009-01-01T00:00:00\"}, {\"term\": \"php\", \"score\": 0.14059949446343534, \"inferred_start_year\": \"2009-01-01T00:00:00\"}, {\"term\": \"mime\", \"score\": 0.10625648164708351, \"inferred_start_year\": \"2009-01-01T00:00:00\"}, {\"term\": \"charset\", \"score\": 0.10258452180532955, \"inferred_start_year\": \"2009-01-01T00:00:00\"}, {\"term\": \"precedence\", \"score\": 0.10090739065864843, \"inferred_start_year\": \"2009-01-01T00:00:00\"}, {\"term\": \"virus\", \"score\": 0.08504803553577372, \"inferred_start_year\": \"2009-01-01T00:00:00\"}, {\"term\": \"2009\", \"score\": 0.6734066189548654, \"inferred_start_year\": \"2010-01-01T00:00:00\"}, {\"term\": \"2010\", \"score\": 0.4389521914845175, \"inferred_start_year\": \"2010-01-01T00:00:00\"}, {\"term\": \"bounces\", \"score\": 0.4194081366749424, \"inferred_start_year\": \"2010-01-01T00:00:00\"}, {\"term\": \"php\", \"score\": 0.27203544487671644, \"inferred_start_year\": \"2010-01-01T00:00:00\"}, {\"term\": \"charset\", \"score\": 0.1262564505927819, \"inferred_start_year\": \"2010-01-01T00:00:00\"}, {\"term\": \"precedence\", \"score\": 0.1262564505927819, \"inferred_start_year\": \"2010-01-01T00:00:00\"}, {\"term\": \"1006\", \"score\": 0.12593640889292695, \"inferred_start_year\": \"2010-01-01T00:00:00\"}, {\"term\": \"mailman\", \"score\": 0.1227578162626193, \"inferred_start_year\": \"2010-01-01T00:00:00\"}, {\"term\": \"mime\", \"score\": 0.11910620693344924, \"inferred_start_year\": \"2010-01-01T00:00:00\"}, {\"term\": \"userid\", \"score\": 0.11111870401035508, \"inferred_start_year\": \"2010-01-01T00:00:00\"}, {\"term\": \"2010\", \"score\": 0.6221378536945449, \"inferred_start_year\": \"2011-01-01T00:00:00\"}, {\"term\": \"2011\", \"score\": 0.4689692064166371, \"inferred_start_year\": \"2011-01-01T00:00:00\"}, {\"term\": \"bounces\", \"score\": 0.44391709161316245, \"inferred_start_year\": \"2011-01-01T00:00:00\"}, {\"term\": \"php\", \"score\": 0.2864631918689275, \"inferred_start_year\": \"2011-01-01T00:00:00\"}, {\"term\": \"precedence\", \"score\": 0.1331143288149759, \"inferred_start_year\": \"2011-01-01T00:00:00\"}, {\"term\": \"charset\", \"score\": 0.1331143288149759, \"inferred_start_year\": \"2011-01-01T00:00:00\"}, {\"term\": \"1006\", \"score\": 0.13282526404013337, \"inferred_start_year\": \"2011-01-01T00:00:00\"}, {\"term\": \"mailman\", \"score\": 0.12893541027287936, \"inferred_start_year\": \"2011-01-01T00:00:00\"}, {\"term\": \"mime\", \"score\": 0.12575624028672533, \"inferred_start_year\": \"2011-01-01T00:00:00\"}, {\"term\": \"userid\", \"score\": 0.11719701498334355, \"inferred_start_year\": \"2011-01-01T00:00:00\"}, {\"term\": \"2011\", \"score\": 0.73119381077103, \"inferred_start_year\": \"2012-01-01T00:00:00\"}, {\"term\": \"bounces\", \"score\": 0.4791515925372674, \"inferred_start_year\": \"2012-01-01T00:00:00\"}, {\"term\": \"php\", \"score\": 0.3157088423092065, \"inferred_start_year\": \"2012-01-01T00:00:00\"}, {\"term\": \"charset\", \"score\": 0.14471908975925668, \"inferred_start_year\": \"2012-01-01T00:00:00\"}, {\"term\": \"precedence\", \"score\": 0.14456546015229355, \"inferred_start_year\": \"2012-01-01T00:00:00\"}, {\"term\": \"1006\", \"score\": 0.14425820093836733, \"inferred_start_year\": \"2012-01-01T00:00:00\"}, {\"term\": \"mailman\", \"score\": 0.14032466433267832, \"inferred_start_year\": \"2012-01-01T00:00:00\"}, {\"term\": \"mime\", \"score\": 0.13641140751837125, \"inferred_start_year\": \"2012-01-01T00:00:00\"}, {\"term\": \"userid\", \"score\": 0.12728475007386889, \"inferred_start_year\": \"2012-01-01T00:00:00\"}, {\"term\": \"base64\", \"score\": 0.08073492320273956, \"inferred_start_year\": \"2012-01-01T00:00:00\"}, {\"term\": \"2013\", \"score\": 0.6461532704901538, \"inferred_start_year\": \"2013-01-01T00:00:00\"}, {\"term\": \"bounces\", \"score\": 0.3852994628529251, \"inferred_start_year\": \"2013-01-01T00:00:00\"}, {\"term\": \"php\", \"score\": 0.3176802964625178, \"inferred_start_year\": \"2013-01-01T00:00:00\"}, {\"term\": \"spam\", \"score\": 0.27334261381425246, \"inferred_start_year\": \"2013-01-01T00:00:00\"}, {\"term\": \"cet\", \"score\": 0.2422952079713293, \"inferred_start_year\": \"2013-01-01T00:00:00\"}, {\"term\": \"userid\", \"score\": 0.2215560439079858, \"inferred_start_year\": \"2013-01-01T00:00:00\"}, {\"term\": \"charset\", \"score\": 0.14984091367002222, \"inferred_start_year\": \"2013-01-01T00:00:00\"}, {\"term\": \"precedence\", \"score\": 0.14984091367002222, \"inferred_start_year\": \"2013-01-01T00:00:00\"}, {\"term\": \"mailman\", \"score\": 0.14612903656576148, \"inferred_start_year\": \"2013-01-01T00:00:00\"}, {\"term\": \"mime\", \"score\": 0.14146607847460044, \"inferred_start_year\": \"2013-01-01T00:00:00\"}, {\"term\": \"2013\", \"score\": 0.5899219674764828, \"inferred_start_year\": \"2014-01-01T00:00:00\"}, {\"term\": \"2014\", \"score\": 0.5105921982426853, \"inferred_start_year\": \"2014-01-01T00:00:00\"}, {\"term\": \"spam\", \"score\": 0.3128451511923098, \"inferred_start_year\": \"2014-01-01T00:00:00\"}, {\"term\": \"bounces\", \"score\": 0.25597197327064103, \"inferred_start_year\": \"2014-01-01T00:00:00\"}, {\"term\": \"php\", \"score\": 0.24242726257850983, \"inferred_start_year\": \"2014-01-01T00:00:00\"}, {\"term\": \"userid\", \"score\": 0.20182328501729832, \"inferred_start_year\": \"2014-01-01T00:00:00\"}, {\"term\": \"cet\", \"score\": 0.1684998295359123, \"inferred_start_year\": \"2014-01-01T00:00:00\"}, {\"term\": \"2010\", \"score\": 0.11611456118961277, \"inferred_start_year\": \"2014-01-01T00:00:00\"}, {\"term\": \"charset\", \"score\": 0.11442388702052715, \"inferred_start_year\": \"2014-01-01T00:00:00\"}, {\"term\": \"precedence\", \"score\": 0.11431257973743324, \"inferred_start_year\": \"2014-01-01T00:00:00\"}, {\"term\": \"2014\", \"score\": 0.6184414954560087, \"inferred_start_year\": \"2015-01-01T00:00:00\"}, {\"term\": \"bounces\", \"score\": 0.509651300129179, \"inferred_start_year\": \"2015-01-01T00:00:00\"}, {\"term\": \"php\", \"score\": 0.32040147970605415, \"inferred_start_year\": \"2015-01-01T00:00:00\"}, {\"term\": \"spam\", \"score\": 0.30253464503214483, \"inferred_start_year\": \"2015-01-01T00:00:00\"}, {\"term\": \"userid\", \"score\": 0.19492066560938232, \"inferred_start_year\": \"2015-01-01T00:00:00\"}, {\"term\": \"cet\", \"score\": 0.1649351405303799, \"inferred_start_year\": \"2015-01-01T00:00:00\"}, {\"term\": \"2010\", \"score\": 0.11232991312980165, \"inferred_start_year\": \"2015-01-01T00:00:00\"}, {\"term\": \"precedence\", \"score\": 0.11063455979487362, \"inferred_start_year\": \"2015-01-01T00:00:00\"}, {\"term\": \"charset\", \"score\": 0.11063455979487362, \"inferred_start_year\": \"2015-01-01T00:00:00\"}, {\"term\": \"mailman\", \"score\": 0.10796535617792795, \"inferred_start_year\": \"2015-01-01T00:00:00\"}, {\"term\": \"php\", \"score\": 0.5322953916568972, \"inferred_start_year\": \"2016-01-01T00:00:00\"}, {\"term\": \"spam\", \"score\": 0.46921207213940586, \"inferred_start_year\": \"2016-01-01T00:00:00\"}, {\"term\": \"bounces\", \"score\": 0.38237241652197784, \"inferred_start_year\": \"2016-01-01T00:00:00\"}, {\"term\": \"userid\", \"score\": 0.3030554062602681, \"inferred_start_year\": \"2016-01-01T00:00:00\"}, {\"term\": \"2010\", \"score\": 0.17856688480115349, \"inferred_start_year\": \"2016-01-01T00:00:00\"}, {\"term\": \"charset\", \"score\": 0.17157420487380182, \"inferred_start_year\": \"2016-01-01T00:00:00\"}, {\"term\": \"precedence\", \"score\": 0.17157420487380182, \"inferred_start_year\": \"2016-01-01T00:00:00\"}, {\"term\": \"mailman\", \"score\": 0.1671163219976133, \"inferred_start_year\": \"2016-01-01T00:00:00\"}, {\"term\": \"mime\", \"score\": 0.16254051443700396, \"inferred_start_year\": \"2016-01-01T00:00:00\"}, {\"term\": \"ham\", \"score\": 0.1502590991039283, \"inferred_start_year\": \"2016-01-01T00:00:00\"}, {\"term\": \"php\", \"score\": 0.5406734988127817, \"inferred_start_year\": \"2017-01-01T00:00:00\"}, {\"term\": \"spam\", \"score\": 0.47096858025008687, \"inferred_start_year\": \"2017-01-01T00:00:00\"}, {\"term\": \"bounces\", \"score\": 0.3830459337699601, \"inferred_start_year\": \"2017-01-01T00:00:00\"}, {\"term\": \"userid\", \"score\": 0.30386995316564724, \"inferred_start_year\": \"2017-01-01T00:00:00\"}, {\"term\": \"precedence\", \"score\": 0.1732205143115831, \"inferred_start_year\": \"2017-01-01T00:00:00\"}, {\"term\": \"charset\", \"score\": 0.17219554085411815, \"inferred_start_year\": \"2017-01-01T00:00:00\"}, {\"term\": \"2010\", \"score\": 0.16877532008539592, \"inferred_start_year\": \"2017-01-01T00:00:00\"}, {\"term\": \"mailman\", \"score\": 0.16778252408489358, \"inferred_start_year\": \"2017-01-01T00:00:00\"}, {\"term\": \"mime\", \"score\": 0.16451040203668077, \"inferred_start_year\": \"2017-01-01T00:00:00\"}, {\"term\": \"ham\", \"score\": 0.15057841429190555, \"inferred_start_year\": \"2017-01-01T00:00:00\"}, {\"term\": \"php\", \"score\": 0.5342475699985789, \"inferred_start_year\": \"2018-01-01T00:00:00\"}, {\"term\": \"spam\", \"score\": 0.46642507062672406, \"inferred_start_year\": \"2018-01-01T00:00:00\"}, {\"term\": \"bounces\", \"score\": 0.377296045628081, \"inferred_start_year\": \"2018-01-01T00:00:00\"}, {\"term\": \"userid\", \"score\": 0.30153557100710543, \"inferred_start_year\": \"2018-01-01T00:00:00\"}, {\"term\": \"2010\", \"score\": 0.17388859337935983, \"inferred_start_year\": \"2018-01-01T00:00:00\"}, {\"term\": \"charset\", \"score\": 0.17087270457444428, \"inferred_start_year\": \"2018-01-01T00:00:00\"}, {\"term\": \"precedence\", \"score\": 0.17087270457444428, \"inferred_start_year\": \"2018-01-01T00:00:00\"}, {\"term\": \"mailman\", \"score\": 0.16550842020445095, \"inferred_start_year\": \"2018-01-01T00:00:00\"}, {\"term\": \"mime\", \"score\": 0.16444294854067532, \"inferred_start_year\": \"2018-01-01T00:00:00\"}, {\"term\": \"ham\", \"score\": 0.15076778550355271, \"inferred_start_year\": \"2018-01-01T00:00:00\"}, {\"term\": \"php\", \"score\": 0.5114040063502384, \"inferred_start_year\": \"2019-01-01T00:00:00\"}, {\"term\": \"spam\", \"score\": 0.4570322198320524, \"inferred_start_year\": \"2019-01-01T00:00:00\"}, {\"term\": \"bounces\", \"score\": 0.3677825377862886, \"inferred_start_year\": \"2019-01-01T00:00:00\"}, {\"term\": \"userid\", \"score\": 0.29393236113359617, \"inferred_start_year\": \"2019-01-01T00:00:00\"}, {\"term\": \"fish\", \"score\": 0.190183772764164, \"inferred_start_year\": \"2019-01-01T00:00:00\"}, {\"term\": \"https\", \"score\": 0.1717692845756526, \"inferred_start_year\": \"2019-01-01T00:00:00\"}, {\"term\": \"2010\", \"score\": 0.16763728417079488, \"inferred_start_year\": \"2019-01-01T00:00:00\"}, {\"term\": \"precedence\", \"score\": 0.16656415474002678, \"inferred_start_year\": \"2019-01-01T00:00:00\"}, {\"term\": \"charset\", \"score\": 0.16656415474002678, \"inferred_start_year\": \"2019-01-01T00:00:00\"}, {\"term\": \"mailman\", \"score\": 0.16133513063053942, \"inferred_start_year\": \"2019-01-01T00:00:00\"}]}}, {\"mode\": \"vega-lite\"});\n",
       "</script>"
      ],
      "text/plain": [
       "alt.Chart(...)"
      ]
     },
     "execution_count": 14,
     "metadata": {},
     "output_type": "execute_result"
    }
   ],
   "source": [
    "selection = alt.selection_point(fields=['term'], bind='legend')\n",
    "chart = alt.Chart(top_terms).mark_bar().encode(\n",
    "    y='score',\n",
    "    x='inferred_start_year:T',\n",
    "    color=alt.Color('term', legend=alt.Legend(title='Term', orient='right', symbolLimit=len(top_terms['term'].unique()), columns=5), scale=alt.Scale(scheme='tableau20')),\n",
    "    tooltip=['term', 'score', 'year(inferred_start_year)'],\n",
    "    opacity=alt.condition(selection, alt.value(1), alt.value(0.2))\n",
    ").add_params(selection).properties(\n",
    "    title='Top 10 Terms by TF-IDF Score in Humanist Volumes'\n",
    ")\n",
    "chart"
   ]
  },
  {
   "cell_type": "markdown",
   "metadata": {},
   "source": [
    "### Periodization of Humanist Code"
   ]
  },
  {
   "cell_type": "code",
   "execution_count": null,
   "metadata": {},
   "outputs": [
    {
     "name": "stderr",
     "output_type": "stream",
     "text": [
      "C:\\Users\\Christy\\AppData\\Local\\Temp\\ipykernel_10324\\2814346263.py:6: FutureWarning: The default of observed=False is deprecated and will be changed to True in a future version of pandas. Pass observed=False to retain current behavior or observed=True to adopt the future default and silence this warning.\n",
      "  transformed_documents = vectorizer.fit_transform(humanist_vols.groupby('period')['volume_text'].apply(' '.join).tolist())\n",
      "C:\\Users\\Christy\\AppData\\Local\\Temp\\ipykernel_10324\\2814346263.py:28: DeprecationWarning: DataFrameGroupBy.apply operated on the grouping columns. This behavior is deprecated, and in a future version of pandas the grouping columns will be excluded from the operation. Either pass `include_groups=False` to exclude the groupings or explicitly select the grouping columns after groupby to silence this warning.\n",
      "  top_terms = tfidf_df.groupby('period').apply(lambda x: x.sort_values('score', ascending=False).head(30)).reset_index(drop=True)\n"
     ]
    }
   ],
   "source": [
    "# Group the volumes by period\n",
    "humanist_vols['period'] = pd.cut(humanist_vols['inferred_start_year'], bins=[float('-inf'), 2000, 2010, 2020], labels=['early_internet', 'web_2.0', 'contemporary'])\n",
    "# Create a vectorizer\n",
    "vectorizer = TfidfVectorizer(max_df=.8)\n",
    "# Fit the vectorizer to our documents\n",
    "transformed_documents = vectorizer.fit_transform(humanist_vols.groupby('period')['volume_text'].apply(' '.join).tolist())\n",
    "# Now get the top features for each document\n",
    "transformed_documents_as_array = transformed_documents.toarray()\n",
    "# Get the periods for each volume\n",
    "periods = humanist_vols['period'].unique()\n",
    "# Create an empty list to store our results\n",
    "tfidf_results = []\n",
    "# Loop through each document and get the top terms\n",
    "for counter, doc in enumerate(transformed_documents_as_array):\n",
    "    # Zip together the terms and the scores\n",
    "    tf_idf_tuples = list(zip(vectorizer.get_feature_names_out(), doc))\n",
    "    # Sort the terms by score\n",
    "    one_doc_as_df = pd.DataFrame.from_records(tf_idf_tuples, columns=['term', 'score']).sort_values(by='score', ascending=False).reset_index(drop=True)\n",
    "    # Add the date to the dataframe\n",
    "    one_doc_as_df['period'] = periods[counter]\n",
    "    # Append the dataframe to our list\n",
    "    tfidf_results.append(one_doc_as_df)\n",
    "# Concatenate all the dataframes together\n",
    "tfidf_df = pd.concat(tfidf_results)\n",
    "# Sort the dataframe by score\n",
    "tfidf_df = tfidf_df.sort_values(by=['score'], ascending=False)\n",
    "# Get the top thirty terms for each period\n",
    "top_terms = tfidf_df.groupby('period').apply(lambda x: x.sort_values('score', ascending=False).head(30)).reset_index(drop=True)"
   ]
  },
  {
   "cell_type": "code",
   "execution_count": null,
   "metadata": {},
   "outputs": [
    {
     "data": {
      "text/html": [
       "\n",
       "<style>\n",
       "  #altair-viz-c5f9f0a794104263a1413357b845357a.vega-embed {\n",
       "    width: 100%;\n",
       "    display: flex;\n",
       "  }\n",
       "\n",
       "  #altair-viz-c5f9f0a794104263a1413357b845357a.vega-embed details,\n",
       "  #altair-viz-c5f9f0a794104263a1413357b845357a.vega-embed details summary {\n",
       "    position: relative;\n",
       "  }\n",
       "</style>\n",
       "<div id=\"altair-viz-c5f9f0a794104263a1413357b845357a\"></div>\n",
       "<script type=\"text/javascript\">\n",
       "  var VEGA_DEBUG = (typeof VEGA_DEBUG == \"undefined\") ? {} : VEGA_DEBUG;\n",
       "  (function(spec, embedOpt){\n",
       "    let outputDiv = document.currentScript.previousElementSibling;\n",
       "    if (outputDiv.id !== \"altair-viz-c5f9f0a794104263a1413357b845357a\") {\n",
       "      outputDiv = document.getElementById(\"altair-viz-c5f9f0a794104263a1413357b845357a\");\n",
       "    }\n",
       "    const paths = {\n",
       "      \"vega\": \"https://cdn.jsdelivr.net/npm/vega@5?noext\",\n",
       "      \"vega-lib\": \"https://cdn.jsdelivr.net/npm/vega-lib?noext\",\n",
       "      \"vega-lite\": \"https://cdn.jsdelivr.net/npm/vega-lite@5.17.0?noext\",\n",
       "      \"vega-embed\": \"https://cdn.jsdelivr.net/npm/vega-embed@6?noext\",\n",
       "    };\n",
       "\n",
       "    function maybeLoadScript(lib, version) {\n",
       "      var key = `${lib.replace(\"-\", \"\")}_version`;\n",
       "      return (VEGA_DEBUG[key] == version) ?\n",
       "        Promise.resolve(paths[lib]) :\n",
       "        new Promise(function(resolve, reject) {\n",
       "          var s = document.createElement('script');\n",
       "          document.getElementsByTagName(\"head\")[0].appendChild(s);\n",
       "          s.async = true;\n",
       "          s.onload = () => {\n",
       "            VEGA_DEBUG[key] = version;\n",
       "            return resolve(paths[lib]);\n",
       "          };\n",
       "          s.onerror = () => reject(`Error loading script: ${paths[lib]}`);\n",
       "          s.src = paths[lib];\n",
       "        });\n",
       "    }\n",
       "\n",
       "    function showError(err) {\n",
       "      outputDiv.innerHTML = `<div class=\"error\" style=\"color:red;\">${err}</div>`;\n",
       "      throw err;\n",
       "    }\n",
       "\n",
       "    function displayChart(vegaEmbed) {\n",
       "      vegaEmbed(outputDiv, spec, embedOpt)\n",
       "        .catch(err => showError(`Javascript Error: ${err.message}<br>This usually means there's a typo in your chart specification. See the javascript console for the full traceback.`));\n",
       "    }\n",
       "\n",
       "    if(typeof define === \"function\" && define.amd) {\n",
       "      requirejs.config({paths});\n",
       "      require([\"vega-embed\"], displayChart, err => showError(`Error loading script: ${err.message}`));\n",
       "    } else {\n",
       "      maybeLoadScript(\"vega\", \"5\")\n",
       "        .then(() => maybeLoadScript(\"vega-lite\", \"5.17.0\"))\n",
       "        .then(() => maybeLoadScript(\"vega-embed\", \"6\"))\n",
       "        .catch(showError)\n",
       "        .then(() => displayChart(vegaEmbed));\n",
       "    }\n",
       "  })({\"config\": {\"view\": {\"continuousWidth\": 300, \"continuousHeight\": 300}}, \"data\": {\"name\": \"data-5703aac61f237fec110dbc9d16f00696\"}, \"mark\": {\"type\": \"bar\"}, \"encoding\": {\"color\": {\"field\": \"term\", \"legend\": {\"columns\": 5, \"orient\": \"right\", \"symbolLimit\": 81, \"title\": \"Term\"}, \"scale\": {\"scheme\": \"tableau20\"}, \"type\": \"nominal\"}, \"opacity\": {\"condition\": {\"param\": \"param_5\", \"value\": 1}, \"value\": 0.2}, \"tooltip\": [{\"field\": \"term\", \"type\": \"nominal\"}, {\"field\": \"score\", \"type\": \"quantitative\"}, {\"field\": \"period\", \"type\": \"nominal\"}], \"x\": {\"axis\": {\"title\": \"Period\"}, \"field\": \"period\", \"sort\": [\"early_internet\", \"web_2.0\", \"contemporary\"], \"type\": \"nominal\"}, \"y\": {\"field\": \"score\", \"type\": \"quantitative\"}}, \"params\": [{\"name\": \"param_5\", \"select\": {\"type\": \"point\", \"fields\": [\"term\"]}, \"bind\": \"legend\"}], \"title\": \"Top 30 Terms by TF-IDF Score in Humanist Volumes by Period\", \"$schema\": \"https://vega.github.io/schema/vega-lite/v5.17.0.json\", \"datasets\": {\"data-5703aac61f237fec110dbc9d16f00696\": [{\"term\": \"digitalhumanities\", \"score\": 0.9165349219259773, \"period\": \"contemporary\"}, {\"term\": \"onlinehome\", \"score\": 0.21749021614453537, \"period\": \"contemporary\"}, {\"term\": \"s16382816\", \"score\": 0.21749021614453537, \"period\": \"contemporary\"}, {\"term\": \"dhhumanist\", \"score\": 0.12112341989873886, \"period\": \"contemporary\"}, {\"term\": \"joyent\", \"score\": 0.11460760822150344, \"period\": \"contemporary\"}, {\"term\": \"cest\", \"score\": 0.08646139845669089, \"period\": \"contemporary\"}, {\"term\": \"listmember_interface\", \"score\": 0.07466031391292922, \"period\": \"contemporary\"}, {\"term\": \"membership_form\", \"score\": 0.05715521206328762, \"period\": \"contemporary\"}, {\"term\": \"esmtp\", \"score\": 0.05678133529870053, \"period\": \"contemporary\"}, {\"term\": \"beenthere\", \"score\": 0.05677174871499317, \"period\": \"contemporary\"}, {\"term\": \"10009\", \"score\": 0.04703002181727492, \"period\": \"contemporary\"}, {\"term\": \"autolearn\", \"score\": 0.04691657496754148, \"period\": \"contemporary\"}, {\"term\": \"all_trusted\", \"score\": 0.04690396976201554, \"period\": \"contemporary\"}, {\"term\": \"localhost\", \"score\": 0.04017737231755089, \"period\": \"contemporary\"}, {\"term\": \"spamassassin\", \"score\": 0.03568126455879848, \"period\": \"contemporary\"}, {\"term\": \"2016\", \"score\": 0.0344158355094268, \"period\": \"contemporary\"}, {\"term\": \"utf\", \"score\": 0.03141523480902273, \"period\": \"contemporary\"}, {\"term\": \"bayes_00\", \"score\": 0.028472153610862836, \"period\": \"contemporary\"}, {\"term\": \"spf\", \"score\": 0.019278619835503424, \"period\": \"contemporary\"}, {\"term\": \"vhost\", \"score\": 0.018592678150758643, \"period\": \"contemporary\"}, {\"term\": \"uribl_blocked\", \"score\": 0.018189311573928627, \"period\": \"contemporary\"}, {\"term\": \"twitter\", \"score\": 0.011455967530296663, \"period\": \"contemporary\"}, {\"term\": \"2018\", \"score\": 0.010727387168537212, \"period\": \"contemporary\"}, {\"term\": \"universit\\u00e3\", \"score\": 0.010430203073609012, \"period\": \"contemporary\"}, {\"term\": \"gmail\", \"score\": 0.005876575812612431, \"period\": \"contemporary\"}, {\"term\": \"facebook\", \"score\": 0.005368486876122285, \"period\": \"contemporary\"}, {\"term\": \"adho\", \"score\": 0.005071302781194088, \"period\": \"contemporary\"}, {\"term\": \"d\\u00e3\", \"score\": 0.004179750496409494, \"period\": \"contemporary\"}, {\"term\": \"dhsi\", \"score\": 0.003940085903725464, \"period\": \"contemporary\"}, {\"term\": \"unauthenticated\", \"score\": 0.00384458768541111, \"period\": \"contemporary\"}, {\"term\": \"vax\", \"score\": 0.2820580523409705, \"period\": \"early_internet\"}, {\"term\": \"utorepas\", \"score\": 0.2497153956725392, \"period\": \"early_internet\"}, {\"term\": \"epas\", \"score\": 0.17017985239035627, \"period\": \"early_internet\"}, {\"term\": \"gopher\", \"score\": 0.15730910725158984, \"period\": \"early_internet\"}, {\"term\": \"qs\", \"score\": 0.15419173527973054, \"period\": \"early_internet\"}, {\"term\": \"wlm\", \"score\": 0.14901462705105145, \"period\": \"early_internet\"}, {\"term\": \"brownvm\", \"score\": 0.11726678904209425, \"period\": \"early_internet\"}, {\"term\": \"goldfield\", \"score\": 0.11669475592481574, \"period\": \"early_internet\"}, {\"term\": \"penndrls\", \"score\": 0.11658399496760112, \"period\": \"early_internet\"}, {\"term\": \"hforums\", \"score\": 0.11412060689706245, \"period\": \"early_internet\"}, {\"term\": \"marchand\", \"score\": 0.11412060689706245, \"period\": \"early_internet\"}, {\"term\": \"wordcruncher\", \"score\": 0.09581554714415016, \"period\": \"early_internet\"}, {\"term\": \"coombs\", \"score\": 0.08837911661952956, \"period\": \"early_internet\"}, {\"term\": \"brians\", \"score\": 0.08837818973350409, \"period\": \"early_internet\"}, {\"term\": \"compuserve\", \"score\": 0.0880931000608903, \"period\": \"early_internet\"}, {\"term\": \"guvax\", \"score\": 0.0872499575241402, \"period\": \"early_internet\"}, {\"term\": \"neach\", \"score\": 0.08348918349292726, \"period\": \"early_internet\"}, {\"term\": \"mst\", \"score\": 0.08265878544674447, \"period\": \"early_internet\"}, {\"term\": \"filetype\", \"score\": 0.0808566416710782, \"period\": \"early_internet\"}, {\"term\": \"lenoble\", \"score\": 0.0769384542739594, \"period\": \"early_internet\"}, {\"term\": \"prolog\", \"score\": 0.07493633836348461, \"period\": \"early_internet\"}, {\"term\": \"goerwitz\", \"score\": 0.0748394032211375, \"period\": \"early_internet\"}, {\"term\": \"taunivm\", \"score\": 0.07446332581801621, \"period\": \"early_internet\"}, {\"term\": \"rlg\", \"score\": 0.0743643052462061, \"period\": \"early_internet\"}, {\"term\": \"5801\", \"score\": 0.07295901620553102, \"period\": \"early_internet\"}, {\"term\": \"telnet\", \"score\": 0.07207617277709207, \"period\": \"early_internet\"}, {\"term\": \"idbsu\", \"score\": 0.07145470659304586, \"period\": \"early_internet\"}, {\"term\": \"bellcore\", \"score\": 0.06578380848702847, \"period\": \"early_internet\"}, {\"term\": \"5081\", \"score\": 0.06430923593374127, \"period\": \"early_internet\"}, {\"term\": \"fileserver\", \"score\": 0.06280492632125609, \"period\": \"early_internet\"}, {\"term\": \"digitalhumanities\", \"score\": 0.837964387324678, \"period\": \"web_2.0\"}, {\"term\": \"joyent\", \"score\": 0.3317572008233929, \"period\": \"web_2.0\"}, {\"term\": \"esmtp\", \"score\": 0.27552296800759973, \"period\": \"web_2.0\"}, {\"term\": \"barracuda\", \"score\": 0.14201933314569906, \"period\": \"web_2.0\"}, {\"term\": \"localhost\", \"score\": 0.08170066071651357, \"period\": \"web_2.0\"}, {\"term\": \"aaisp\", \"score\": 0.08031338448845876, \"period\": \"web_2.0\"}, {\"term\": \"membership_form\", \"score\": 0.06123833635270514, \"period\": \"web_2.0\"}, {\"term\": \"listmember_interface\", \"score\": 0.06118879077313175, \"period\": \"web_2.0\"}, {\"term\": \"beenthere\", \"score\": 0.0599501512837971, \"period\": \"web_2.0\"}, {\"term\": \"messagelabs\", \"score\": 0.059454695488063244, \"period\": \"web_2.0\"}, {\"term\": \"asg\", \"score\": 0.05680773325827962, \"period\": \"web_2.0\"}, {\"term\": \"proofpoint\", \"score\": 0.05498363173163761, \"period\": \"web_2.0\"}, {\"term\": \"infobits\", \"score\": 0.05365786267797708, \"period\": \"web_2.0\"}, {\"term\": \"aes256\", \"score\": 0.05250806537405203, \"period\": \"web_2.0\"}, {\"term\": \"ccreegan\", \"score\": 0.052320132029495654, \"period\": \"web_2.0\"}, {\"term\": \"smtpserver1\", \"score\": 0.046319149480088084, \"period\": \"web_2.0\"}, {\"term\": \"emfw4\", \"score\": 0.045667684649144516, \"period\": \"web_2.0\"}, {\"term\": \"emfw2\", \"score\": 0.045016219818200934, \"period\": \"web_2.0\"}, {\"term\": \"wlm\", \"score\": 0.042609198433111985, \"period\": \"web_2.0\"}, {\"term\": \"fqs\", \"score\": 0.041758895663483064, \"period\": \"web_2.0\"}, {\"term\": \"emfw3\", \"score\": 0.04006508710302978, \"period\": \"web_2.0\"}, {\"term\": \"smtpserver2\", \"score\": 0.03908788985661442, \"period\": \"web_2.0\"}, {\"term\": \"outbound\", \"score\": 0.03864555206724111, \"period\": \"web_2.0\"}, {\"term\": \"mimeole\", \"score\": 0.03439734307382069, \"period\": \"web_2.0\"}, {\"term\": \"tlsv1\", \"score\": 0.031213715131233204, \"period\": \"web_2.0\"}, {\"term\": \"wmccarty\", \"score\": 0.030222803539765485, \"period\": \"web_2.0\"}, {\"term\": \"utf\", \"score\": 0.029033709630004217, \"period\": \"web_2.0\"}, {\"term\": \"spamscore\", \"score\": 0.02840386662913981, \"period\": \"web_2.0\"}, {\"term\": \"listsv440\", \"score\": 0.02840386662913981, \"period\": \"web_2.0\"}, {\"term\": \"quarantine\", \"score\": 0.02840386662913981, \"period\": \"web_2.0\"}]}}, {\"mode\": \"vega-lite\"});\n",
       "</script>"
      ],
      "text/plain": [
       "alt.Chart(...)"
      ]
     },
     "execution_count": 17,
     "metadata": {},
     "output_type": "execute_result"
    }
   ],
   "source": [
    "top_terms['period'] = top_terms['period'].astype(str)\n",
    "selection = alt.selection_point(fields=['term'], bind='legend')\n",
    "chart = alt.Chart(top_terms).mark_bar().encode(\n",
    "    y='score',\n",
    "    x=alt.X('period', sort=['early_internet', 'web_2.0', 'contemporary'], axis=alt.Axis(title='Period')),\n",
    "    color=alt.Color('term', legend=alt.Legend(title='Term', orient='right', symbolLimit=len(top_terms['term'].unique()), columns=5), scale=alt.Scale(scheme='tableau20')),\n",
    "    tooltip=['term', 'score', 'period'],\n",
    "    opacity=alt.condition(selection, alt.value(1), alt.value(0.2))\n",
    ").add_params(selection).properties(\n",
    "    title='Top 30 Terms by TF-IDF Score in Humanist Volumes by Period'\n",
    ")\n",
    "chart"
   ]
  },
  {
   "cell_type": "markdown",
   "metadata": {},
   "source": [
    "## Topic Modeling Experiments"
   ]
  },
  {
   "cell_type": "markdown",
   "metadata": {},
   "source": [
    "Try running the code from our lesson in class. See if you can understand what it does. Then, try to modify it to see if you can get different results. Use the documentation to help you understand what each parameter does [https://scikit-learn.org/stable/modules/generated/sklearn.decomposition.LatentDirichletAllocation.html](https://scikit-learn.org/stable/modules/generated/sklearn.decomposition.LatentDirichletAllocation.html). In particular, try out the `n_components` and differing TF-IDF parameters. Also try using the pudding_data dataset to see if you can get different results."
   ]
  },
  {
   "cell_type": "code",
   "execution_count": null,
   "metadata": {},
   "outputs": [
    {
     "name": "stdout",
     "output_type": "stream",
     "text": [
      "Topic #0: žikovský, chaffee, chainâ, chainsaw, chaining, chaines, chained, chainbi_at_lycos, chainbi, chaim\n",
      "Topic #1: žikovský, chaffee, chainâ, chainsaw, chaining, chaines, chained, chainbi_at_lycos, chainbi, chaim\n",
      "Topic #2: žikovský, chaffee, chainâ, chainsaw, chaining, chaines, chained, chainbi_at_lycos, chainbi, chaim\n",
      "Topic #3: 2009, žikovský, chaffar, chaining, chaines, chained, chainbi_at_lycos, chainbi, chaim, chaillot\n",
      "Topic #4: žikovský, chaffee, chainâ, chainsaw, chaining, chaines, chained, chainbi_at_lycos, chainbi, chaim\n",
      "Topic #5: žikovský, chaffee, chainâ, chainsaw, chaining, chaines, chained, chainbi_at_lycos, chainbi, chaim\n",
      "Topic #6: žikovský, chaffee, chainâ, chainsaw, chaining, chaines, chained, chainbi_at_lycos, chainbi, chaim\n",
      "Topic #7: žikovský, chaffee, chainâ, chainsaw, chaining, chaines, chained, chainbi_at_lycos, chainbi, chaim\n",
      "Topic #8: žikovský, chaffee, chainâ, chainsaw, chaining, chaines, chained, chainbi_at_lycos, chainbi, chaim\n",
      "Topic #9: 2008, esmtp, barracuda, nz, outbound, messagelabs, helo, ccreegan, asg, aes256\n",
      "Topic #10: žikovský, chaffee, chainâ, chainsaw, chaining, chaines, chained, chainbi_at_lycos, chainbi, chaim\n",
      "Topic #11: 2016, ippe, kevitt, waxweb, iee, aaai, horrigan, ijcai, velingrad, nicolov\n",
      "Topic #12: žikovský, chaffee, chainâ, chainsaw, chaining, chaines, chained, chainbi_at_lycos, chainbi, chaim\n",
      "Topic #13: žikovský, chaffee, chainâ, chainsaw, chaining, chaines, chained, chainbi_at_lycos, chainbi, chaim\n",
      "Topic #14: žikovský, chaffee, chainâ, chainsaw, chaining, chaines, chained, chainbi_at_lycos, chainbi, chaim\n",
      "Topic #15: žikovský, chaffee, chainâ, chainsaw, chaining, chaines, chained, chainbi_at_lycos, chainbi, chaim\n",
      "Topic #16: žikovský, chaffee, chainâ, chainsaw, chaining, chaines, chained, chainbi_at_lycos, chainbi, chaim\n",
      "Topic #17: joyent, woodward, 2012, 2011, localhost, 1006, chagani, chaim, chaippelli, chainâ\n",
      "Topic #18: 2007, 2008, wmccarty, fludd, 1617, infinitum, tl, jiia, ichim07, ahrc\n",
      "Topic #19: žikovský, chaffee, chainâ, chainsaw, chaining, chaines, chained, chainbi_at_lycos, chainbi, chaim\n",
      "Topic #20: žikovský, chaffee, chainâ, chainsaw, chaining, chaines, chained, chainbi_at_lycos, chainbi, chaim\n",
      "Topic #21: žikovský, chaffee, chainâ, chainsaw, chaining, chaines, chained, chainbi_at_lycos, chainbi, chaim\n",
      "Topic #22: žikovský, chaffee, chainâ, chainsaw, chaining, chaines, chained, chainbi_at_lycos, chainbi, chaim\n",
      "Topic #23: žikovský, chaffee, chainâ, chainsaw, chaining, chaines, chained, chainbi_at_lycos, chainbi, chaim\n",
      "Topic #24: žikovský, chaffee, chainâ, chainsaw, chaining, chaines, chained, chainbi_at_lycos, chainbi, chaim\n",
      "Topic #25: 2017, žikovský, chahuneau, chainsaw, chaining, chaines, chained, chainbi_at_lycos, chainbi, chaim\n",
      "Topic #26: 2013, 2014, cet, žikovský, chaines, chained, chainbi_at_lycos, chainbi, chaim, chaillot\n",
      "Topic #27: žikovský, chaffee, chainâ, chainsaw, chaining, chaines, chained, chainbi_at_lycos, chainbi, chaim\n",
      "Topic #28: žikovský, chaffee, chainâ, chainsaw, chaining, chaines, chained, chainbi_at_lycos, chainbi, chaim\n",
      "Topic #29: 2003, tocs, 0558, asp, 4020, hardbound, esf, euro, gbp, usd\n",
      "Topic #30: žikovský, chaffee, chainâ, chainsaw, chaining, chaines, chained, chainbi_at_lycos, chainbi, chaim\n",
      "Topic #31: žikovský, chaffee, chainâ, chainsaw, chaining, chaines, chained, chainbi_at_lycos, chainbi, chaim\n",
      "Topic #32: žikovský, chaffee, chainâ, chainsaw, chaining, chaines, chained, chainbi_at_lycos, chainbi, chaim\n",
      "Topic #33: žikovský, chaffee, chainâ, chainsaw, chaining, chaines, chained, chainbi_at_lycos, chainbi, chaim\n",
      "Topic #34: žikovský, chaffee, chainâ, chainsaw, chaining, chaines, chained, chainbi_at_lycos, chainbi, chaim\n",
      "Topic #35: žikovský, chaffee, chainâ, chainsaw, chaining, chaines, chained, chainbi_at_lycos, chainbi, chaim\n",
      "Topic #36: žikovský, chaffee, chainâ, chainsaw, chaining, chaines, chained, chainbi_at_lycos, chainbi, chaim\n",
      "Topic #37: žikovský, chaffee, chainâ, chainsaw, chaining, chaines, chained, chainbi_at_lycos, chainbi, chaim\n",
      "Topic #38: žikovský, chaffee, chainâ, chainsaw, chaining, chaines, chained, chainbi_at_lycos, chainbi, chaim\n",
      "Topic #39: aaisp, 2009, painless, exim, 0805090000, dnswl, clamav, linecount, 7bit, ch006\n",
      "Topic #40: žikovský, chaffee, chainâ, chainsaw, chaining, chaines, chained, chainbi_at_lycos, chainbi, chaim\n",
      "Topic #41: žikovský, chaffee, chainâ, chainsaw, chaining, chaines, chained, chainbi_at_lycos, chainbi, chaim\n",
      "Topic #42: uottawa, acadvm1, 441495, rs, lemme, pacling, vspace, schipper, forks, dah\n",
      "Topic #43: žikovský, chaffee, chainâ, chainsaw, chaining, chaines, chained, chainbi_at_lycos, chainbi, chaim\n",
      "Topic #44: žikovský, chaffee, chainâ, chainsaw, chaining, chaines, chained, chainbi_at_lycos, chainbi, chaim\n",
      "Topic #45: žikovský, chaffee, chainâ, chainsaw, chaining, chaines, chained, chainbi_at_lycos, chainbi, chaim\n",
      "Topic #46: 2002, arun, elra, tripathi, reciprocal, endorse, kumar, elda, btinternet, ihde\n",
      "Topic #47: žikovský, chaffee, chainâ, chainsaw, chaining, chaines, chained, chainbi_at_lycos, chainbi, chaim\n",
      "Topic #48: žikovský, chaffee, chainâ, chainsaw, chaining, chaines, chained, chainbi_at_lycos, chainbi, chaim\n",
      "Topic #49: 5801, xxx, cti, brians, ___, tact, ruhc, pmc, etext, netscape\n",
      "Topic #50: žikovský, chaffee, chainâ, chainsaw, chaining, chaines, chained, chainbi_at_lycos, chainbi, chaim\n",
      "Topic #51: žikovský, chaffee, chainâ, chainsaw, chaining, chaines, chained, chainbi_at_lycos, chainbi, chaim\n",
      "Topic #52: žikovský, chaffee, chainâ, chainsaw, chaining, chaines, chained, chainbi_at_lycos, chainbi, chaim\n",
      "Topic #53: žikovský, chaffee, chainâ, chainsaw, chaining, chaines, chained, chainbi_at_lycos, chainbi, chaim\n",
      "Topic #54: žikovský, chaffee, chainâ, chainsaw, chaining, chaines, chained, chainbi_at_lycos, chainbi, chaim\n",
      "Topic #55: žikovský, chaffee, chainâ, chainsaw, chaining, chaines, chained, chainbi_at_lycos, chainbi, chaim\n",
      "Topic #56: ninch, amico, gants, hforums, cni, xml, metadata, ilex, archimuse, b7\n",
      "Topic #57: žikovský, chaffee, chainâ, chainsaw, chaining, chaines, chained, chainbi_at_lycos, chainbi, chaim\n",
      "Topic #58: digitalhumanities, onlinehome, s16382816, archiver, postfix, bounces, dhhumanist, php, cest, spam\n",
      "Topic #59: žikovský, chaffee, chainâ, chainsaw, chaining, chaines, chained, chainbi_at_lycos, chainbi, chaim\n",
      "Topic #60: žikovský, chaffee, chainâ, chainsaw, chaining, chaines, chained, chainbi_at_lycos, chainbi, chaim\n",
      "Topic #61: žikovský, chaffee, chainâ, chainsaw, chaining, chaines, chained, chainbi_at_lycos, chainbi, chaim\n",
      "Topic #62: žikovský, chaffee, chainâ, chainsaw, chaining, chaines, chained, chainbi_at_lycos, chainbi, chaim\n",
      "Topic #63: žikovský, chaffee, chainâ, chainsaw, chaining, chaines, chained, chainbi_at_lycos, chainbi, chaim\n",
      "Topic #64: žikovský, chaffee, chainâ, chainsaw, chaining, chaines, chained, chainbi_at_lycos, chainbi, chaim\n",
      "Topic #65: žikovský, chaffee, chainâ, chainsaw, chaining, chaines, chained, chainbi_at_lycos, chainbi, chaim\n",
      "Topic #66: žikovský, chaffee, chainâ, chainsaw, chaining, chaines, chained, chainbi_at_lycos, chainbi, chaim\n",
      "Topic #67: žikovský, chaffee, chainâ, chainsaw, chaining, chaines, chained, chainbi_at_lycos, chainbi, chaim\n",
      "Topic #68: žikovský, chaffee, chainâ, chainsaw, chaining, chaines, chained, chainbi_at_lycos, chainbi, chaim\n",
      "Topic #69: žikovský, chaffee, chainâ, chainsaw, chaining, chaines, chained, chainbi_at_lycos, chainbi, chaim\n",
      "Topic #70: žikovský, chaffee, chainâ, chainsaw, chaining, chaines, chained, chainbi_at_lycos, chainbi, chaim\n",
      "Topic #71: žikovský, chaffee, chainâ, chainsaw, chaining, chaines, chained, chainbi_at_lycos, chainbi, chaim\n",
      "Topic #72: žikovský, chaffee, chainâ, chainsaw, chaining, chaines, chained, chainbi_at_lycos, chainbi, chaim\n",
      "Topic #73: žikovský, chaffee, chainâ, chainsaw, chaining, chaines, chained, chainbi_at_lycos, chainbi, chaim\n",
      "Topic #74: saddam, žikovský, chainsaw, chaines, chained, chainbi_at_lycos, chainbi, chaim, chaillot, chaillol\n",
      "Topic #75: ecu, e9, e5, f4, speechdat, ef, 3db7, frankel, chafik, chagall\n",
      "Topic #76: žikovský, chaffee, chainâ, chainsaw, chaining, chaines, chained, chainbi_at_lycos, chainbi, chaim\n",
      "Topic #77: žikovský, chaffee, chainâ, chainsaw, chaining, chaines, chained, chainbi_at_lycos, chainbi, chaim\n",
      "Topic #78: žikovský, chaffee, chainâ, chainsaw, chaining, chaines, chained, chainbi_at_lycos, chainbi, chaim\n",
      "Topic #79: 2006, fqs, 1007, doi, mccarty_at_kcl, 3dx, arundel, xml, wikipedia, sepb\n",
      "Topic #80: num, deleted, bitnet, 2004, htm, wlm, 2784, ubiquity, website, utorepas\n",
      "Topic #81: žikovský, chaffee, chainâ, chainsaw, chaining, chaines, chained, chainbi_at_lycos, chainbi, chaim\n",
      "Topic #82: žikovský, chaffee, chainâ, chainsaw, chaining, chaines, chained, chainbi_at_lycos, chainbi, chaim\n",
      "Topic #83: žikovský, chaffee, chainâ, chainsaw, chaining, chaines, chained, chainbi_at_lycos, chainbi, chaim\n",
      "Topic #84: žikovský, chaffee, chainâ, chainsaw, chaining, chaines, chained, chainbi_at_lycos, chainbi, chaim\n",
      "Topic #85: žikovský, chaffee, chainâ, chainsaw, chaining, chaines, chained, chainbi_at_lycos, chainbi, chaim\n",
      "Topic #86: žikovský, chaffee, chainâ, chainsaw, chaining, chaines, chained, chainbi_at_lycos, chainbi, chaim\n",
      "Topic #87: 1998, elra, coling, ecai, ecu, lll, prolamat, chainbi_at_lycos, chainbi, chahuneau\n",
      "Topic #88: žikovský, chaffee, chainâ, chainsaw, chaining, chaines, chained, chainbi_at_lycos, chainbi, chaim\n",
      "Topic #89: ftp, gopher, epas, qs, marchand, neach, ceth, guvax, lenoble, umontreal\n",
      "Topic #90: 2014, spf, helo, localhost, cet, chafik, chafia, chaines, chained, chainbi_at_lycos\n",
      "Topic #91: žikovský, chaffee, chainâ, chainsaw, chaining, chaines, chained, chainbi_at_lycos, chainbi, chaim\n",
      "Topic #92: žikovský, chaffee, chainâ, chainsaw, chaining, chaines, chained, chainbi_at_lycos, chainbi, chaim\n",
      "Topic #93: žikovský, chaffee, chainâ, chainsaw, chaining, chaines, chained, chainbi_at_lycos, chainbi, chaim\n",
      "Topic #94: žikovský, chaffee, chainâ, chainsaw, chaining, chaines, chained, chainbi_at_lycos, chainbi, chaim\n",
      "Topic #95: žikovský, chaffee, chainâ, chainsaw, chaining, chaines, chained, chainbi_at_lycos, chainbi, chaim\n",
      "Topic #96: žikovský, chaffee, chainâ, chainsaw, chaining, chaines, chained, chainbi_at_lycos, chainbi, chaim\n",
      "Topic #97: kessler, warkentin, spaeth, filetype, 8080, jdg, slatin, flannagan, hasselmo, halio\n",
      "Topic #98: žikovský, chaffee, chainâ, chainsaw, chaining, chaines, chained, chainbi_at_lycos, chainbi, chaim\n",
      "Topic #99: žikovský, chaffee, chainâ, chainsaw, chaining, chaines, chained, chainbi_at_lycos, chainbi, chaim\n"
     ]
    }
   ],
   "source": [
    "# Preprocess the text\n",
    "vectorizer = TfidfVectorizer(max_df=0.8)\n",
    "tfidf = vectorizer.fit_transform(humanist_vols['volume_text'])\n",
    "\n",
    "# Perform topic modeling\n",
    "lda = LatentDirichletAllocation(n_components=10, max_iter=20, random_state=0)\n",
    "lda.fit(tfidf)\n",
    "\n",
    "# Get the top words for each topic\n",
    "top_words = vectorizer.get_feature_names_out()\n",
    "topic_words = {}\n",
    "for topic, comp in enumerate(lda.components_):\n",
    "    word_idx = np.argsort(comp)[::-1][:10]\n",
    "    topic_words[topic] = [top_words[i] for i in word_idx]\n",
    "\n",
    "# Print the top words for each topic\n",
    "for topic, words in topic_words.items():\n",
    "    print(f\"Topic #{topic}: {', '.join(words)}\")"
   ]
  },
  {
   "cell_type": "markdown",
   "metadata": {},
   "source": [
    "## Classification Experiments"
   ]
  },
  {
   "cell_type": "markdown",
   "metadata": {},
   "source": [
    "Try out the code from our lesson in class. See if you can understand what it does. Then, try to modify it to see if you can get different results. Use the documentation to help you understand what each parameter does [https://scikit-learn.org/stable/modules/generated/sklearn.ensemble.RandomForestClassifier.html](https://scikit-learn.org/stable/modules/generated/sklearn.ensemble.RandomForestClassifier.html). In particular, try out the TFIDF parameters. Also try using the `gender_category` in the pudding_data dataset to see if you can get different results."
   ]
  },
  {
   "cell_type": "code",
   "execution_count": null,
   "metadata": {},
   "outputs": [
    {
     "name": "stdout",
     "output_type": "stream",
     "text": [
      "                precision    recall  f1-score   support\n",
      "\n",
      "  contemporary       1.00      0.33      0.50         3\n",
      "early_internet       1.00      1.00      1.00         2\n",
      "       web_2.0       0.50      1.00      0.67         2\n",
      "\n",
      "      accuracy                           0.71         7\n",
      "     macro avg       0.83      0.78      0.72         7\n",
      "  weighted avg       0.86      0.71      0.69         7\n",
      "\n"
     ]
    }
   ],
   "source": [
    "# Create a vectorizer\n",
    "vectorizer = TfidfVectorizer(max_df=0.8)\n",
    "# Fit the vectorizer to our documents\n",
    "transformed_documents = vectorizer.fit_transform(humanist_vols['volume_text'])\n",
    "\n",
    "# Split the data into training and test sets\n",
    "X_train, X_test, y_train, y_test = train_test_split(transformed_documents, humanist_vols['period'], test_size=0.2, random_state=0)\n",
    "\n",
    "# Train a logistic regression classifier\n",
    "clf = LogisticRegression(max_iter=1000)\n",
    "clf.fit(X_train, y_train)\n",
    "\n",
    "# Predict the time period of the test set\n",
    "y_pred = clf.predict(X_test)\n",
    "\n",
    "# Print the classification report\n",
    "print(classification_report(y_test, y_pred))"
   ]
  },
  {
   "cell_type": "code",
   "execution_count": null,
   "metadata": {},
   "outputs": [],
   "source": [
    "# Get the coefficients for each term\n",
    "coefficients = clf.coef_\n",
    "# Get the terms\n",
    "terms = vectorizer.get_feature_names_out()\n",
    "# Create a dataframe of the terms and coefficients\n",
    "terms_df = pd.DataFrame({'term': terms, 'contemporary': coefficients[0], 'early_internet': coefficients[1], 'web_2.0': coefficients[2]})\n",
    "# Get the top terms for each period\n",
    "top_terms = terms_df.melt(id_vars='term', var_name='period', value_name='coefficient').sort_values(by='coefficient', ascending=False).groupby('period').head(10)"
   ]
  },
  {
   "cell_type": "code",
   "execution_count": null,
   "metadata": {},
   "outputs": [
    {
     "data": {
      "text/html": [
       "\n",
       "<style>\n",
       "  #altair-viz-8b5ad06326b5408e80d7840585ac6548.vega-embed {\n",
       "    width: 100%;\n",
       "    display: flex;\n",
       "  }\n",
       "\n",
       "  #altair-viz-8b5ad06326b5408e80d7840585ac6548.vega-embed details,\n",
       "  #altair-viz-8b5ad06326b5408e80d7840585ac6548.vega-embed details summary {\n",
       "    position: relative;\n",
       "  }\n",
       "</style>\n",
       "<div id=\"altair-viz-8b5ad06326b5408e80d7840585ac6548\"></div>\n",
       "<script type=\"text/javascript\">\n",
       "  var VEGA_DEBUG = (typeof VEGA_DEBUG == \"undefined\") ? {} : VEGA_DEBUG;\n",
       "  (function(spec, embedOpt){\n",
       "    let outputDiv = document.currentScript.previousElementSibling;\n",
       "    if (outputDiv.id !== \"altair-viz-8b5ad06326b5408e80d7840585ac6548\") {\n",
       "      outputDiv = document.getElementById(\"altair-viz-8b5ad06326b5408e80d7840585ac6548\");\n",
       "    }\n",
       "    const paths = {\n",
       "      \"vega\": \"https://cdn.jsdelivr.net/npm/vega@5?noext\",\n",
       "      \"vega-lib\": \"https://cdn.jsdelivr.net/npm/vega-lib?noext\",\n",
       "      \"vega-lite\": \"https://cdn.jsdelivr.net/npm/vega-lite@5.17.0?noext\",\n",
       "      \"vega-embed\": \"https://cdn.jsdelivr.net/npm/vega-embed@6?noext\",\n",
       "    };\n",
       "\n",
       "    function maybeLoadScript(lib, version) {\n",
       "      var key = `${lib.replace(\"-\", \"\")}_version`;\n",
       "      return (VEGA_DEBUG[key] == version) ?\n",
       "        Promise.resolve(paths[lib]) :\n",
       "        new Promise(function(resolve, reject) {\n",
       "          var s = document.createElement('script');\n",
       "          document.getElementsByTagName(\"head\")[0].appendChild(s);\n",
       "          s.async = true;\n",
       "          s.onload = () => {\n",
       "            VEGA_DEBUG[key] = version;\n",
       "            return resolve(paths[lib]);\n",
       "          };\n",
       "          s.onerror = () => reject(`Error loading script: ${paths[lib]}`);\n",
       "          s.src = paths[lib];\n",
       "        });\n",
       "    }\n",
       "\n",
       "    function showError(err) {\n",
       "      outputDiv.innerHTML = `<div class=\"error\" style=\"color:red;\">${err}</div>`;\n",
       "      throw err;\n",
       "    }\n",
       "\n",
       "    function displayChart(vegaEmbed) {\n",
       "      vegaEmbed(outputDiv, spec, embedOpt)\n",
       "        .catch(err => showError(`Javascript Error: ${err.message}<br>This usually means there's a typo in your chart specification. See the javascript console for the full traceback.`));\n",
       "    }\n",
       "\n",
       "    if(typeof define === \"function\" && define.amd) {\n",
       "      requirejs.config({paths});\n",
       "      require([\"vega-embed\"], displayChart, err => showError(`Error loading script: ${err.message}`));\n",
       "    } else {\n",
       "      maybeLoadScript(\"vega\", \"5\")\n",
       "        .then(() => maybeLoadScript(\"vega-lite\", \"5.17.0\"))\n",
       "        .then(() => maybeLoadScript(\"vega-embed\", \"6\"))\n",
       "        .catch(showError)\n",
       "        .then(() => displayChart(vegaEmbed));\n",
       "    }\n",
       "  })({\"config\": {\"view\": {\"continuousWidth\": 300, \"continuousHeight\": 300}}, \"data\": {\"name\": \"data-f8375c80544f9b1f3d93b616c0dbb051\"}, \"mark\": {\"type\": \"bar\"}, \"encoding\": {\"color\": {\"field\": \"term\", \"legend\": {\"columns\": 5, \"orient\": \"right\", \"symbolLimit\": 30, \"title\": \"Term\"}, \"scale\": {\"scheme\": \"tableau20\"}, \"type\": \"nominal\"}, \"opacity\": {\"condition\": {\"param\": \"param_6\", \"value\": 1}, \"value\": 0.2}, \"tooltip\": [{\"field\": \"term\", \"type\": \"nominal\"}, {\"field\": \"coefficient\", \"type\": \"quantitative\"}, {\"field\": \"period\", \"type\": \"nominal\"}], \"x\": {\"axis\": {\"title\": \"Period\"}, \"field\": \"period\", \"sort\": [\"early_internet\", \"web_2.0\", \"contemporary\"], \"type\": \"nominal\"}, \"y\": {\"field\": \"coefficient\", \"type\": \"quantitative\"}}, \"params\": [{\"name\": \"param_6\", \"select\": {\"type\": \"point\", \"fields\": [\"term\"]}, \"bind\": \"legend\"}], \"title\": \"Top 10 Terms by Coefficient in Logistic Regression Model by Period\", \"$schema\": \"https://vega.github.io/schema/vega-lite/v5.17.0.json\", \"datasets\": {\"data-f8375c80544f9b1f3d93b616c0dbb051\": [{\"term\": \"num\", \"period\": \"early_internet\", \"coefficient\": 1.2560297784572299}, {\"term\": \"digitalhumanities\", \"period\": \"contemporary\", \"coefficient\": 1.0417844278180965}, {\"term\": \"onlinehome\", \"period\": \"contemporary\", \"coefficient\": 0.5798457158524044}, {\"term\": \"s16382816\", \"period\": \"contemporary\", \"coefficient\": 0.5798457158524044}, {\"term\": \"2006\", \"period\": \"web_2.0\", \"coefficient\": 0.45894236392039284}, {\"term\": \"2002\", \"period\": \"web_2.0\", \"coefficient\": 0.4541699940646838}, {\"term\": \"2003\", \"period\": \"web_2.0\", \"coefficient\": 0.4468032602375925}, {\"term\": \"joyent\", \"period\": \"web_2.0\", \"coefficient\": 0.3580397353656945}, {\"term\": \"bitnet\", \"period\": \"early_internet\", \"coefficient\": 0.34397757804339707}, {\"term\": \"dhhumanist\", \"period\": \"contemporary\", \"coefficient\": 0.3209572643387693}, {\"term\": \"archiver\", \"period\": \"contemporary\", \"coefficient\": 0.30661278037125134}, {\"term\": \"2008\", \"period\": \"web_2.0\", \"coefficient\": 0.3034397407521064}, {\"term\": \"cest\", \"period\": \"contemporary\", \"coefficient\": 0.30100006677807584}, {\"term\": \"2004\", \"period\": \"web_2.0\", \"coefficient\": 0.26921556229509536}, {\"term\": \"woodward\", \"period\": \"web_2.0\", \"coefficient\": 0.24570426520614996}, {\"term\": \"2007\", \"period\": \"web_2.0\", \"coefficient\": 0.2330310295882045}, {\"term\": \"esmtp\", \"period\": \"web_2.0\", \"coefficient\": 0.21547251515671345}, {\"term\": \"2009\", \"period\": \"web_2.0\", \"coefficient\": 0.21066836841048892}, {\"term\": \"postfix\", \"period\": \"contemporary\", \"coefficient\": 0.20666235180026676}, {\"term\": \"deleted\", \"period\": \"early_internet\", \"coefficient\": 0.20577145598589028}, {\"term\": \"ftp\", \"period\": \"early_internet\", \"coefficient\": 0.18282550328733255}, {\"term\": \"1998\", \"period\": \"early_internet\", \"coefficient\": 0.1785595202324747}, {\"term\": \"2015\", \"period\": \"contemporary\", \"coefficient\": 0.17767700039203604}, {\"term\": \"2016\", \"period\": \"contemporary\", \"coefficient\": 0.15026834335510517}, {\"term\": \"utorepas\", \"period\": \"early_internet\", \"coefficient\": 0.15007267255220752}, {\"term\": \"listmember_interface\", \"period\": \"contemporary\", \"coefficient\": 0.13778372929674698}, {\"term\": \"gopher\", \"period\": \"early_internet\", \"coefficient\": 0.1298761792112031}, {\"term\": \"vax\", \"period\": \"early_internet\", \"coefficient\": 0.120265157339633}, {\"term\": \"epas\", \"period\": \"early_internet\", \"coefficient\": 0.10691287917943831}, {\"term\": \"ninch\", \"period\": \"early_internet\", \"coefficient\": 0.08224153507965232}]}}, {\"mode\": \"vega-lite\"});\n",
       "</script>"
      ],
      "text/plain": [
       "alt.Chart(...)"
      ]
     },
     "execution_count": 22,
     "metadata": {},
     "output_type": "execute_result"
    }
   ],
   "source": [
    "# visualize top terms\n",
    "top_terms['period'] = top_terms['period'].astype(str)\n",
    "selection = alt.selection_point(fields=['term'], bind='legend')\n",
    "\n",
    "# Define the sort order for the periods\n",
    "period_order = ['early_internet', 'web_2.0', 'contemporary']\n",
    "\n",
    "chart = alt.Chart(top_terms).mark_bar().encode(\n",
    "    x=alt.X('period', sort=['early_internet', 'web_2.0', 'contemporary'], axis=alt.Axis(title='Period')),\n",
    "    y=alt.Y('coefficient:Q'),  # Sort terms by score in descending order\n",
    "    color=alt.Color('term', legend=alt.Legend(title='Term', orient='right', symbolLimit=len(top_terms['term'].unique()), columns=5), scale=alt.Scale(scheme='tableau20')),\n",
    "    tooltip=['term', 'coefficient', 'period'],\n",
    "    opacity=alt.condition(selection, alt.value(1), alt.value(0.2))\n",
    ").add_params(selection).properties(\n",
    "    title='Top 10 Terms by Coefficient in Logistic Regression Model by Period'\n",
    ")\n",
    "chart"
   ]
  },
  {
   "cell_type": "code",
   "execution_count": null,
   "metadata": {},
   "outputs": [],
   "source": []
  }
 ],
 "metadata": {
  "kernelspec": {
   "display_name": "data-work-env",
   "language": "python",
   "name": "python3"
  },
  "language_info": {
   "codemirror_mode": {
    "name": "ipython",
    "version": 3
   },
   "file_extension": ".py",
   "mimetype": "text/x-python",
   "name": "python",
   "nbconvert_exporter": "python",
   "pygments_lexer": "ipython3",
   "version": "3.11.9"
  }
 },
 "nbformat": 4,
 "nbformat_minor": 2
}
